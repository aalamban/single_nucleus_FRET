{
 "cells": [
  {
   "cell_type": "code",
   "execution_count": 30,
   "id": "3ad6355f-7279-425a-8e8d-c715fea7c159",
   "metadata": {},
   "outputs": [],
   "source": [
    "import json"
   ]
  },
  {
   "cell_type": "code",
   "execution_count": 31,
   "id": "6ee567b4-3730-4ef0-9d47-84db736fc531",
   "metadata": {},
   "outputs": [],
   "source": [
    "ypet_json = open('../data/Ypet_spectrum.json')\n",
    "ypet_data = json.load(ypet_json)"
   ]
  },
  {
   "cell_type": "code",
   "execution_count": 32,
   "id": "1ac9e059-8bf8-401a-92cc-9c24a0956b56",
   "metadata": {},
   "outputs": [],
   "source": [
    "ypet_spectrum = ypet_data['data']['spectrum']['data']"
   ]
  },
  {
   "cell_type": "code",
   "execution_count": 46,
   "id": "904ee07e-6495-4323-b837-7518297e4391",
   "metadata": {},
   "outputs": [],
   "source": [
    "data_em = mcerulean_data['data']['protein']['states'][0]['spectra'][2]"
   ]
  },
  {
   "cell_type": "code",
   "execution_count": 50,
   "id": "3c2da579-b444-4c41-8b41-ed9ed8ad59f0",
   "metadata": {},
   "outputs": [],
   "source": [
    "nm = [data_em['data'][i][0] for i in range(0, len(data_em['data']))]"
   ]
  },
  {
   "cell_type": "code",
   "execution_count": 52,
   "id": "938f05b3-b1a0-480d-92d6-d7d98a1eacd0",
   "metadata": {},
   "outputs": [],
   "source": [
    "em = [data_em['data'][i][1] for i in range(0, len(data_em['data']))]"
   ]
  },
  {
   "cell_type": "code",
   "execution_count": 53,
   "id": "17cadccb-dbbc-416b-a036-d76c16364cb2",
   "metadata": {},
   "outputs": [],
   "source": [
    "start_num = nm.index(462)\n",
    "end_num = nm.index(504)\n",
    "\n",
    "start_den = nm.index(525)\n",
    "end_den = nm.index(565)"
   ]
  },
  {
   "cell_type": "code",
   "execution_count": 55,
   "id": "801793dd-0130-4eac-b44f-25dcfe96fc93",
   "metadata": {},
   "outputs": [],
   "source": [
    "num = np.array([em[i] for i in range(start_num, end_num + 1)])\n",
    "den = np.array([em[i] for i in range(start_den, end_den + 1)])"
   ]
  },
  {
   "cell_type": "code",
   "execution_count": 59,
   "id": "32807571-8ec9-47d7-9fe1-91dcfc503a9b",
   "metadata": {},
   "outputs": [],
   "source": [
    "beta = den.sum()/num.sum()"
   ]
  },
  {
   "cell_type": "code",
   "execution_count": 60,
   "id": "7491ef7c-10ff-46e0-a875-c46847677d61",
   "metadata": {},
   "outputs": [
    {
     "data": {
      "text/plain": [
       "0.3798966581372108"
      ]
     },
     "execution_count": 60,
     "metadata": {},
     "output_type": "execute_result"
    }
   ],
   "source": [
    "beta"
   ]
  },
  {
   "cell_type": "code",
   "execution_count": 61,
   "id": "4939de0f-ef90-4d2e-babb-1741d894390c",
   "metadata": {},
   "outputs": [
    {
     "data": {
      "text/plain": [
       "0.38"
      ]
     },
     "execution_count": 61,
     "metadata": {},
     "output_type": "execute_result"
    }
   ],
   "source": [
    "0.38"
   ]
  },
  {
   "cell_type": "code",
   "execution_count": null,
   "id": "5bc54122-f41c-447a-8ceb-084c9ac01930",
   "metadata": {},
   "outputs": [],
   "source": []
  }
 ],
 "metadata": {
  "kernelspec": {
   "display_name": "Python 3 (ipykernel)",
   "language": "python",
   "name": "python3"
  },
  "language_info": {
   "codemirror_mode": {
    "name": "ipython",
    "version": 3
   },
   "file_extension": ".py",
   "mimetype": "text/x-python",
   "name": "python",
   "nbconvert_exporter": "python",
   "pygments_lexer": "ipython3",
   "version": "3.8.12"
  }
 },
 "nbformat": 4,
 "nbformat_minor": 5
}
