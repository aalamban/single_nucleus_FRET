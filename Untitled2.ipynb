{
 "cells": [
  {
   "cell_type": "code",
   "execution_count": 6,
   "id": "625f79f0-3f3a-4065-b968-c1ea7ed751c1",
   "metadata": {},
   "outputs": [],
   "source": [
    "import pandas as pd\n",
    "import numpy as np\n",
    "import os\n",
    "import matplotlib.pyplot as plt"
   ]
  },
  {
   "cell_type": "code",
   "execution_count": 7,
   "id": "dcc21a9e-539e-442b-abce-ca8083ecad96",
   "metadata": {},
   "outputs": [
    {
     "data": {
      "text/plain": [
       "['manual_measurements_t3_z12_c3.csv',\n",
       " 'manual_measurements_bg_t3_z12_c2.csv',\n",
       " 'roi_for_manual_measurements_t3_z12.zip',\n",
       " 'manual_measurements_t3_z12_c1.csv',\n",
       " 't3_z12_fret_measurements.csv',\n",
       " 'manual_measurements_t3_z12_c0.csv',\n",
       " 't0_z12_fret_measurements.csv',\n",
       " 'mips',\n",
       " 'manual_measurements_t3_z12_c2.csv',\n",
       " 'manual_measurements_bg_t3_z12_c3.csv',\n",
       " 'manual_measurements_bg_t3_z12_c1.csv']"
      ]
     },
     "execution_count": 7,
     "metadata": {},
     "output_type": "execute_result"
    }
   ],
   "source": [
    "os.listdir('../outputs/20220117_series9/')"
   ]
  },
  {
   "cell_type": "code",
   "execution_count": 38,
   "id": "0aa241ea-b251-4e0b-b941-f7e0e6e65912",
   "metadata": {},
   "outputs": [],
   "source": [
    "fdir = '../outputs/20220117_series9/'\n",
    "fnames = [fdir + x for x in os.listdir(fdir) if 'manual' in x and '.csv' in x and 'bg' not in x]\n",
    "fnames.sort()"
   ]
  },
  {
   "cell_type": "code",
   "execution_count": 39,
   "id": "da08ed6a-df87-4c53-bc93-91dcd65733a2",
   "metadata": {},
   "outputs": [
    {
     "data": {
      "text/plain": [
       "['../outputs/20220117_series9/manual_measurements_t3_z12_c0.csv',\n",
       " '../outputs/20220117_series9/manual_measurements_t3_z12_c1.csv',\n",
       " '../outputs/20220117_series9/manual_measurements_t3_z12_c2.csv',\n",
       " '../outputs/20220117_series9/manual_measurements_t3_z12_c3.csv']"
      ]
     },
     "execution_count": 39,
     "metadata": {},
     "output_type": "execute_result"
    }
   ],
   "source": [
    "fnames"
   ]
  },
  {
   "cell_type": "code",
   "execution_count": 40,
   "id": "a79da0b2-4a0f-42fb-9482-6eb5babbd0b0",
   "metadata": {},
   "outputs": [],
   "source": [
    "df = pd.concat(map(pd.read_csv, fnames))"
   ]
  },
  {
   "cell_type": "code",
   "execution_count": 41,
   "id": "bcb7b93c-6db3-4a53-99b4-7fbbbcde74f0",
   "metadata": {},
   "outputs": [],
   "source": [
    "df_sqh = df.loc[df['Ch'] == 1]"
   ]
  },
  {
   "cell_type": "code",
   "execution_count": 42,
   "id": "4e79ccfc-df33-453a-98c6-16cb2f3e4edf",
   "metadata": {},
   "outputs": [],
   "source": [
    "df_yfp = df.loc[df['Ch'] == 2]"
   ]
  },
  {
   "cell_type": "code",
   "execution_count": 43,
   "id": "fe78d214-5488-4546-b2d9-5894a5aa8682",
   "metadata": {},
   "outputs": [],
   "source": [
    "df_cfp = df.loc[df['Ch'] == 3]"
   ]
  },
  {
   "cell_type": "code",
   "execution_count": 44,
   "id": "b3eebc56-ed56-4932-a2ef-33aa50430387",
   "metadata": {},
   "outputs": [],
   "source": [
    "df_fret = df.loc[df['Ch'] == 4]"
   ]
  },
  {
   "cell_type": "code",
   "execution_count": 45,
   "id": "3e3d338c-d006-4011-b81d-e0590eb966ea",
   "metadata": {},
   "outputs": [],
   "source": [
    "df_sqh_int = df_sqh['Mean']"
   ]
  },
  {
   "cell_type": "code",
   "execution_count": 46,
   "id": "51bb993e-ac43-431f-942c-3730a383f92a",
   "metadata": {},
   "outputs": [],
   "source": [
    "df_yfp_int = df_yfp['Mean']"
   ]
  },
  {
   "cell_type": "code",
   "execution_count": 47,
   "id": "f8a37083-3465-4be3-8e36-8459e745c425",
   "metadata": {},
   "outputs": [],
   "source": [
    "df_cfp_int = df_cfp['Mean']"
   ]
  },
  {
   "cell_type": "code",
   "execution_count": 48,
   "id": "37a2b7a2-7e1c-4f22-ad16-808ff90f469c",
   "metadata": {},
   "outputs": [],
   "source": [
    "df_fret_int = df_fret['Mean']"
   ]
  },
  {
   "cell_type": "code",
   "execution_count": 49,
   "id": "6df08641-bf0f-43fa-9896-2fba2cdf9060",
   "metadata": {},
   "outputs": [
    {
     "data": {
      "text/plain": [
       "0     284.727\n",
       "1     299.742\n",
       "2     295.667\n",
       "3     301.006\n",
       "4     292.268\n",
       "5     289.737\n",
       "6     286.106\n",
       "7     296.022\n",
       "8     292.293\n",
       "9     302.781\n",
       "10    309.959\n",
       "11    308.696\n",
       "12    301.163\n",
       "13    305.847\n",
       "14    297.066\n",
       "15    297.694\n",
       "16    296.216\n",
       "17    296.735\n",
       "Name: Mean, dtype: float64"
      ]
     },
     "execution_count": 49,
     "metadata": {},
     "output_type": "execute_result"
    }
   ],
   "source": [
    "df_fret_int"
   ]
  },
  {
   "cell_type": "code",
   "execution_count": 50,
   "id": "494bb522-4b61-45d6-953f-535340275764",
   "metadata": {},
   "outputs": [],
   "source": [
    "df2 = pd.DataFrame({'mean_int_sqh': df_sqh_int, 'mean_int_yfp': df_yfp_int, 'mean_int_cfp': df_cfp_int, 'mean_int_fret': df_fret_int})"
   ]
  },
  {
   "cell_type": "code",
   "execution_count": 51,
   "id": "31173481-770c-4eb1-99d4-ef94ef5285ca",
   "metadata": {},
   "outputs": [],
   "source": [
    "df2['yfp/cfp'] = df2['mean_int_yfp']/df2['mean_int_cfp']"
   ]
  },
  {
   "cell_type": "code",
   "execution_count": 52,
   "id": "9bbd5139-ded8-4a19-9b5e-a56620d4dd6b",
   "metadata": {},
   "outputs": [],
   "source": [
    "df2['fret/cfp'] = df2['mean_int_fret']/df2['mean_int_cfp']"
   ]
  },
  {
   "cell_type": "code",
   "execution_count": 53,
   "id": "f53c15c9-948b-47b6-9626-c472ccf144bd",
   "metadata": {},
   "outputs": [],
   "source": [
    "delayed_tag = ['delayed' for i in range(9)]"
   ]
  },
  {
   "cell_type": "code",
   "execution_count": 54,
   "id": "4e2cf843-c339-4eb0-9658-8f73bc87eb55",
   "metadata": {},
   "outputs": [],
   "source": [
    "normal_tag = ['normal' for i in range(9)]"
   ]
  },
  {
   "cell_type": "code",
   "execution_count": 55,
   "id": "87d99180-8164-4c14-ab9d-561ccf197422",
   "metadata": {},
   "outputs": [],
   "source": [
    "tags = delayed_tag + normal_tag"
   ]
  },
  {
   "cell_type": "code",
   "execution_count": 56,
   "id": "4185dbae-1012-4f3b-8e5c-765d77afaa30",
   "metadata": {},
   "outputs": [],
   "source": [
    "df2['tag'] = tags"
   ]
  },
  {
   "cell_type": "code",
   "execution_count": 72,
   "id": "dc169c69-2115-4728-b34a-cf459dee2fbd",
   "metadata": {},
   "outputs": [],
   "source": [
    "df2['fret/cfp cyto'] = df2['fret_bg']/df2['cfp_bg']"
   ]
  },
  {
   "cell_type": "code",
   "execution_count": 73,
   "id": "df6ea866-5910-482f-8ae3-b9a0e5207882",
   "metadata": {},
   "outputs": [],
   "source": [
    "df2['yfp/cfp cyto'] = df2['yfp_bg']/df2['cfp_bg']"
   ]
  },
  {
   "cell_type": "code",
   "execution_count": 74,
   "id": "8f24ac65-7e81-4bb4-b9a3-aab71a854436",
   "metadata": {},
   "outputs": [],
   "source": [
    "df2['fret/yfp cyto'] = df2['fret_bg']/df2['yfp_bg']"
   ]
  },
  {
   "cell_type": "code",
   "execution_count": 75,
   "id": "386acba5-522b-4055-b6b3-ad26e0ca046d",
   "metadata": {},
   "outputs": [],
   "source": [
    "sqh_norm = df2.loc[df2['tag'] == 'normal']['mean_int_sqh']\n",
    "sqh_del = df2.loc[df2['tag'] == 'delayed']['mean_int_sqh']"
   ]
  },
  {
   "cell_type": "code",
   "execution_count": 76,
   "id": "85ac6b88-2637-4a7a-90ac-7b6cd5ee7a59",
   "metadata": {},
   "outputs": [],
   "source": [
    "norm1 = df2.loc[df2['tag'] == 'normal']['fret/cfp']\n",
    "norm2 = df2.loc[df2['tag'] == 'normal']['yfp/cfp']"
   ]
  },
  {
   "cell_type": "code",
   "execution_count": 77,
   "id": "60c7a0f3-cf86-4a59-bf86-451e46c664c4",
   "metadata": {},
   "outputs": [],
   "source": [
    "del1 = df2.loc[df2['tag'] == 'delayed']['fret/cfp']\n",
    "del2 = df2.loc[df2['tag'] == 'delayed']['yfp/cfp']"
   ]
  },
  {
   "cell_type": "code",
   "execution_count": 78,
   "id": "2b5bf1bb-db39-47d8-991f-0493a6093ae1",
   "metadata": {},
   "outputs": [],
   "source": [
    "normx = [0.5 for i in range(len(norm1))]\n",
    "delx = [1 for i in range(len(del1))]"
   ]
  },
  {
   "cell_type": "code",
   "execution_count": 79,
   "id": "4f849e6a-7792-4556-b944-c0b53417f949",
   "metadata": {},
   "outputs": [
    {
     "data": {
      "text/plain": [
       "Text(0.5, 1.0, 'Manual Segmentation  20220117_series9_t3_z12')"
      ]
     },
     "execution_count": 79,
     "metadata": {},
     "output_type": "execute_result"
    },
    {
     "data": {
      "image/png": "[encoded data removed]",
      "text/plain": [
       "<Figure size 432x288 with 1 Axes>"
      ]
     },
     "metadata": {
      "needs_background": "light"
     },
     "output_type": "display_data"
    }
   ],
   "source": [
    "plt.scatter(normx, norm1, label='normal')\n",
    "plt.scatter(delx, del1, label='delayed')\n",
    "plt.legend()\n",
    "plt.ylabel('$I_{FRET}/I_{CFP}$')\n",
    "plt.title('Manual Segmentation  20220117_series9_t3_z12')"
   ]
  },
  {
   "cell_type": "code",
   "execution_count": 80,
   "id": "f850e943-b5f5-4c7c-b4d2-ab1676855d1a",
   "metadata": {},
   "outputs": [
    {
     "data": {
      "text/plain": [
       "Text(0.5, 1.0, 'Manual Segmentation  20220117_series9_t3_z12')"
      ]
     },
     "execution_count": 80,
     "metadata": {},
     "output_type": "execute_result"
    },
    {
     "data": {
      "image/png": "[encoded data removed]",
      "text/plain": [
       "<Figure size 432x288 with 1 Axes>"
      ]
     },
     "metadata": {
      "needs_background": "light"
     },
     "output_type": "display_data"
    }
   ],
   "source": [
    "plt.scatter(normx, norm2, label='normal')\n",
    "plt.scatter(delx, del2, label='delayed')\n",
    "plt.legend()\n",
    "plt.ylabel('$I_{YFP}/I_{CFP}$')\n",
    "plt.title('Manual Segmentation  20220117_series9_t3_z12')"
   ]
  },
  {
   "cell_type": "code",
   "execution_count": 81,
   "id": "d5e62a0c-e92b-4d74-a3c4-4ef37a576a64",
   "metadata": {},
   "outputs": [
    {
     "data": {
      "text/plain": [
       "Text(0.5, 1.0, 'Manual Segmentation  20220117_series9_t3_z12')"
      ]
     },
     "execution_count": 81,
     "metadata": {},
     "output_type": "execute_result"
    },
    {
     "data": {
      "image/png": "[encoded data removed]",
      "text/plain": [
       "<Figure size 432x288 with 1 Axes>"
      ]
     },
     "metadata": {
      "needs_background": "light"
     },
     "output_type": "display_data"
    }
   ],
   "source": [
    "plt.scatter(normx, sqh_norm, label='normal')\n",
    "plt.scatter(delx, sqh_del, label='delayed')\n",
    "plt.legend()\n",
    "plt.ylabel('$I_{Sqh}$')\n",
    "plt.title('Manual Segmentation  20220117_series9_t3_z12')"
   ]
  },
  {
   "cell_type": "markdown",
   "id": "10fb791c-3540-4d3c-834d-78939a8b22c4",
   "metadata": {},
   "source": [
    "Looks problematic. But I haven't tried background subtraction yet, so we'll see if the background subtraction can get both the methods to agree with each other."
   ]
  },
  {
   "cell_type": "markdown",
   "id": "e3c16aaf-389c-4e0f-81d2-26f647a78fc3",
   "metadata": {
    "tags": []
   },
   "source": [
    "## Background correction"
   ]
  },
  {
   "cell_type": "markdown",
   "id": "a2b30ca2-6e1a-455e-b767-a239336d3453",
   "metadata": {
    "jp-MarkdownHeadingCollapsed": true,
    "tags": []
   },
   "source": [
    "## Scratch"
   ]
  },
  {
   "cell_type": "code",
   "execution_count": 60,
   "id": "1b3deb6f-ff24-460d-ad73-89f9ced0c3e3",
   "metadata": {
    "tags": []
   },
   "outputs": [],
   "source": [
    "fdir_bg = '../outputs/20220117_series9/'\n",
    "fnames_bg = [fdir + x for x in os.listdir(fdir_bg) if 'bg' in x]\n",
    "fnames_bg.sort()"
   ]
  },
  {
   "cell_type": "code",
   "execution_count": 61,
   "id": "e0d41fa5-a2ff-4feb-97d0-f36292684e93",
   "metadata": {
    "jupyter": {
     "source_hidden": true
    },
    "tags": []
   },
   "outputs": [
    {
     "data": {
      "text/plain": [
       "['../outputs/20220117_series9/manual_measurements_bg_t3_z12_c1.csv',\n",
       " '../outputs/20220117_series9/manual_measurements_bg_t3_z12_c2.csv',\n",
       " '../outputs/20220117_series9/manual_measurements_bg_t3_z12_c3.csv']"
      ]
     },
     "execution_count": 61,
     "metadata": {},
     "output_type": "execute_result"
    }
   ],
   "source": [
    "fnames_bg"
   ]
  },
  {
   "cell_type": "code",
   "execution_count": 62,
   "id": "0f30389b-5bc9-4376-a48b-e920ba7fa4ef",
   "metadata": {
    "jupyter": {
     "source_hidden": true
    },
    "tags": []
   },
   "outputs": [],
   "source": [
    "df_bg = pd.concat(map(pd.read_csv, fnames_bg))"
   ]
  },
  {
   "cell_type": "code",
   "execution_count": 63,
   "id": "9ee6c619-7bfc-4682-9495-f47a007a6a22",
   "metadata": {
    "jupyter": {
     "source_hidden": true
    },
    "tags": []
   },
   "outputs": [
    {
     "data": {
      "text/html": [
       "<div>\n",
       "<style scoped>\n",
       "    .dataframe tbody tr th:only-of-type {\n",
       "        vertical-align: middle;\n",
       "    }\n",
       "\n",
       "    .dataframe tbody tr th {\n",
       "        vertical-align: top;\n",
       "    }\n",
       "\n",
       "    .dataframe thead th {\n",
       "        text-align: right;\n",
       "    }\n",
       "</style>\n",
       "<table border=\"1\" class=\"dataframe\">\n",
       "  <thead>\n",
       "    <tr style=\"text-align: right;\">\n",
       "      <th></th>\n",
       "      <th></th>\n",
       "      <th>Area</th>\n",
       "      <th>Mean</th>\n",
       "      <th>X</th>\n",
       "      <th>Y</th>\n",
       "      <th>BX</th>\n",
       "      <th>BY</th>\n",
       "      <th>Width</th>\n",
       "      <th>Height</th>\n",
       "      <th>Ch</th>\n",
       "      <th>Slice</th>\n",
       "      <th>Frame</th>\n",
       "    </tr>\n",
       "  </thead>\n",
       "  <tbody>\n",
       "    <tr>\n",
       "      <th>0</th>\n",
       "      <td>1</td>\n",
       "      <td>37.726</td>\n",
       "      <td>446.484</td>\n",
       "      <td>16.640</td>\n",
       "      <td>56.615</td>\n",
       "      <td>9.442</td>\n",
       "      <td>50.107</td>\n",
       "      <td>13.948</td>\n",
       "      <td>12.232</td>\n",
       "      <td>2</td>\n",
       "      <td>13</td>\n",
       "      <td>4</td>\n",
       "    </tr>\n",
       "    <tr>\n",
       "      <th>1</th>\n",
       "      <td>2</td>\n",
       "      <td>32.385</td>\n",
       "      <td>476.364</td>\n",
       "      <td>28.064</td>\n",
       "      <td>63.395</td>\n",
       "      <td>22.747</td>\n",
       "      <td>58.262</td>\n",
       "      <td>11.159</td>\n",
       "      <td>10.193</td>\n",
       "      <td>2</td>\n",
       "      <td>13</td>\n",
       "      <td>4</td>\n",
       "    </tr>\n",
       "    <tr>\n",
       "      <th>2</th>\n",
       "      <td>3</td>\n",
       "      <td>30.473</td>\n",
       "      <td>479.899</td>\n",
       "      <td>29.095</td>\n",
       "      <td>82.837</td>\n",
       "      <td>22.961</td>\n",
       "      <td>77.682</td>\n",
       "      <td>12.446</td>\n",
       "      <td>10.193</td>\n",
       "      <td>2</td>\n",
       "      <td>13</td>\n",
       "      <td>4</td>\n",
       "    </tr>\n",
       "    <tr>\n",
       "      <th>3</th>\n",
       "      <td>4</td>\n",
       "      <td>18.063</td>\n",
       "      <td>478.389</td>\n",
       "      <td>50.535</td>\n",
       "      <td>84.839</td>\n",
       "      <td>46.781</td>\n",
       "      <td>80.043</td>\n",
       "      <td>7.833</td>\n",
       "      <td>9.871</td>\n",
       "      <td>2</td>\n",
       "      <td>13</td>\n",
       "      <td>4</td>\n",
       "    </tr>\n",
       "    <tr>\n",
       "      <th>4</th>\n",
       "      <td>5</td>\n",
       "      <td>42.182</td>\n",
       "      <td>467.810</td>\n",
       "      <td>38.416</td>\n",
       "      <td>94.155</td>\n",
       "      <td>32.618</td>\n",
       "      <td>88.519</td>\n",
       "      <td>12.876</td>\n",
       "      <td>10.300</td>\n",
       "      <td>2</td>\n",
       "      <td>13</td>\n",
       "      <td>4</td>\n",
       "    </tr>\n",
       "  </tbody>\n",
       "</table>\n",
       "</div>"
      ],
      "text/plain": [
       "        Area     Mean       X       Y      BX      BY   Width  Height  Ch  \\\n",
       "0  1  37.726  446.484  16.640  56.615   9.442  50.107  13.948  12.232   2   \n",
       "1  2  32.385  476.364  28.064  63.395  22.747  58.262  11.159  10.193   2   \n",
       "2  3  30.473  479.899  29.095  82.837  22.961  77.682  12.446  10.193   2   \n",
       "3  4  18.063  478.389  50.535  84.839  46.781  80.043   7.833   9.871   2   \n",
       "4  5  42.182  467.810  38.416  94.155  32.618  88.519  12.876  10.300   2   \n",
       "\n",
       "   Slice  Frame  \n",
       "0     13      4  \n",
       "1     13      4  \n",
       "2     13      4  \n",
       "3     13      4  \n",
       "4     13      4  "
      ]
     },
     "execution_count": 63,
     "metadata": {},
     "output_type": "execute_result"
    }
   ],
   "source": [
    "df_bg.head(5)"
   ]
  },
  {
   "cell_type": "code",
   "execution_count": 64,
   "id": "6cc8b5f3-3d41-4c2b-b915-b54b0db15eb4",
   "metadata": {
    "jupyter": {
     "source_hidden": true
    },
    "tags": []
   },
   "outputs": [],
   "source": [
    "df_yfp_bg = df_bg.loc[df_bg['Ch'] == 2]['Mean']"
   ]
  },
  {
   "cell_type": "code",
   "execution_count": 65,
   "id": "332d75c9-d02a-4d55-b50b-00cb07e2e357",
   "metadata": {
    "jupyter": {
     "source_hidden": true
    },
    "tags": []
   },
   "outputs": [],
   "source": [
    "df_cfp_bg = df_bg.loc[df_bg['Ch'] == 3]['Mean']"
   ]
  },
  {
   "cell_type": "code",
   "execution_count": 66,
   "id": "04e8083b-d724-4930-8553-63a3af176c06",
   "metadata": {
    "jupyter": {
     "source_hidden": true
    },
    "tags": []
   },
   "outputs": [],
   "source": [
    "df_fret_bg = df_bg.loc[df_bg['Ch'] == 4]['Mean']"
   ]
  },
  {
   "cell_type": "code",
   "execution_count": 67,
   "id": "0924760c-5281-46b4-8fbe-460828ad8e01",
   "metadata": {},
   "outputs": [],
   "source": [
    "df2['yfp_bg'] = df_yfp_bg"
   ]
  },
  {
   "cell_type": "code",
   "execution_count": 68,
   "id": "5e4de965-19e1-4e56-a341-de1bb169da80",
   "metadata": {},
   "outputs": [],
   "source": [
    "df2['cfp_bg'] = df_cfp_bg"
   ]
  },
  {
   "cell_type": "code",
   "execution_count": 69,
   "id": "b89281a2-33c0-4f58-937d-d29b77a25aec",
   "metadata": {},
   "outputs": [],
   "source": [
    "df2['fret_bg'] = df_fret_bg"
   ]
  },
  {
   "cell_type": "code",
   "execution_count": 70,
   "id": "489b7bab-986c-435c-a4e4-31e94beff745",
   "metadata": {},
   "outputs": [],
   "source": [
    "df2['mean_int_yfp_corr'] = df2['mean_int_yfp'] - df2['yfp_bg']\n",
    "df2['mean_int_cfp_corr'] = df2['mean_int_cfp'] - df2['cfp_bg']\n",
    "df2['mean_int_fret_corr'] = df2['mean_int_fret'] - df2['fret_bg']\n",
    "\n",
    "df2['yfp/cfp corr'] = df2['mean_int_yfp_corr']/df2['mean_int_cfp_corr']\n",
    "df2['fret/cfp corr'] = df2['mean_int_fret_corr']/df2['mean_int_cfp_corr']"
   ]
  },
  {
   "cell_type": "code",
   "execution_count": 71,
   "id": "0e313c58-0b72-4a7f-a912-484afa849081",
   "metadata": {},
   "outputs": [],
   "source": [
    "norm1_corr = df2.loc[df2['tag'] == 'normal']['fret/cfp corr']\n",
    "norm2_corr = df2.loc[df2['tag'] == 'normal']['yfp/cfp corr']\n",
    "\n",
    "del1_corr = df2.loc[df2['tag'] == 'delayed']['fret/cfp corr']\n",
    "del2_corr = df2.loc[df2['tag'] == 'delayed']['yfp/cfp corr']"
   ]
  },
  {
   "cell_type": "markdown",
   "id": "bd0d43b5-fe39-4e67-be9e-40330357726c",
   "metadata": {},
   "source": [
    "## Results"
   ]
  },
  {
   "cell_type": "code",
   "execution_count": 82,
   "id": "f422eee4-9271-42b3-8b7c-30988b06f033",
   "metadata": {},
   "outputs": [
    {
     "data": {
      "text/plain": [
       "Text(0.5, 1.0, 'Manual Segmentation w bg correction 20220117_series9_t3_z12')"
      ]
     },
     "execution_count": 82,
     "metadata": {},
     "output_type": "execute_result"
    },
    {
     "data": {
      "image/png": "[encoded data removed]",
      "text/plain": [
       "<Figure size 432x288 with 1 Axes>"
      ]
     },
     "metadata": {
      "needs_background": "light"
     },
     "output_type": "display_data"
    }
   ],
   "source": [
    "plt.scatter(normx, norm1_corr, label='normal')\n",
    "plt.scatter(delx, del1_corr, label='delayed')\n",
    "plt.legend()\n",
    "plt.ylabel('$I_{FRET}/I_{CFP}$')\n",
    "plt.title('Manual Segmentation w bg correction 20220117_series9_t3_z12')"
   ]
  },
  {
   "cell_type": "code",
   "execution_count": 83,
   "id": "61e28d08-8cfa-4f8a-bb25-c20c6fe0acaa",
   "metadata": {},
   "outputs": [
    {
     "data": {
      "text/plain": [
       "Text(0.5, 1.0, 'Manual Segmentation w bg correction 20220117_series9_t3_z12')"
      ]
     },
     "execution_count": 83,
     "metadata": {},
     "output_type": "execute_result"
    },
    {
     "data": {
      "image/png": "[encoded data removed]",
      "text/plain": [
       "<Figure size 432x288 with 1 Axes>"
      ]
     },
     "metadata": {
      "needs_background": "light"
     },
     "output_type": "display_data"
    }
   ],
   "source": [
    "plt.scatter(normx, norm2_corr, label='normal')\n",
    "plt.scatter(delx, del2_corr, label='delayed')\n",
    "plt.legend()\n",
    "plt.ylabel('$I_{YFP}/I_{CFP}$')\n",
    "plt.title('Manual Segmentation w bg correction 20220117_series9_t3_z12')"
   ]
  },
  {
   "cell_type": "code",
   "execution_count": 84,
   "id": "efe108ad-7e2f-40a9-8297-d8f3a7a8a5d6",
   "metadata": {},
   "outputs": [],
   "source": [
    "import seaborn as sns"
   ]
  },
  {
   "cell_type": "code",
   "execution_count": 183,
   "id": "d852484e-03f6-41e2-8fb3-919258082339",
   "metadata": {},
   "outputs": [
    {
     "ename": "ValueError",
     "evalue": "Could not interpret input 'fret/cfp corr'",
     "output_type": "error",
     "traceback": [
      "\u001b[0;31m---------------------------------------------------------------------------\u001b[0m",
      "\u001b[0;31mValueError\u001b[0m                                Traceback (most recent call last)",
      "Input \u001b[0;32mIn [183]\u001b[0m, in \u001b[0;36m<module>\u001b[0;34m\u001b[0m\n\u001b[0;32m----> 1\u001b[0m ax \u001b[38;5;241m=\u001b[39m \u001b[43msns\u001b[49m\u001b[38;5;241;43m.\u001b[39;49m\u001b[43mboxplot\u001b[49m\u001b[43m(\u001b[49m\u001b[43mx\u001b[49m\u001b[38;5;241;43m=\u001b[39;49m\u001b[38;5;124;43m'\u001b[39;49m\u001b[38;5;124;43mtag\u001b[39;49m\u001b[38;5;124;43m'\u001b[39;49m\u001b[43m,\u001b[49m\u001b[43m \u001b[49m\u001b[43my\u001b[49m\u001b[38;5;241;43m=\u001b[39;49m\u001b[38;5;124;43m'\u001b[39;49m\u001b[38;5;124;43mfret/cfp corr\u001b[39;49m\u001b[38;5;124;43m'\u001b[39;49m\u001b[43m,\u001b[49m\u001b[43m \u001b[49m\u001b[43mdata\u001b[49m\u001b[38;5;241;43m=\u001b[39;49m\u001b[43mdf2\u001b[49m\u001b[43m)\u001b[49m\n\u001b[1;32m      2\u001b[0m \u001b[38;5;66;03m#ax = sns.swarmplot(x='tag', y='fret/cfp corr', data=df2, color='.25')\u001b[39;00m\n\u001b[1;32m      3\u001b[0m plt\u001b[38;5;241m.\u001b[39mtitle(\u001b[38;5;124m'\u001b[39m\u001b[38;5;124mCdk1 Activity\u001b[39m\u001b[38;5;124m'\u001b[39m)\n",
      "File \u001b[0;32m~/miniconda3/envs/cellpose/lib/python3.8/site-packages/seaborn/_decorators.py:46\u001b[0m, in \u001b[0;36m_deprecate_positional_args.<locals>.inner_f\u001b[0;34m(*args, **kwargs)\u001b[0m\n\u001b[1;32m     36\u001b[0m     warnings\u001b[38;5;241m.\u001b[39mwarn(\n\u001b[1;32m     37\u001b[0m         \u001b[38;5;124m\"\u001b[39m\u001b[38;5;124mPass the following variable\u001b[39m\u001b[38;5;132;01m{}\u001b[39;00m\u001b[38;5;124m as \u001b[39m\u001b[38;5;132;01m{}\u001b[39;00m\u001b[38;5;124mkeyword arg\u001b[39m\u001b[38;5;132;01m{}\u001b[39;00m\u001b[38;5;124m: \u001b[39m\u001b[38;5;132;01m{}\u001b[39;00m\u001b[38;5;124m. \u001b[39m\u001b[38;5;124m\"\u001b[39m\n\u001b[1;32m     38\u001b[0m         \u001b[38;5;124m\"\u001b[39m\u001b[38;5;124mFrom version 0.12, the only valid positional argument \u001b[39m\u001b[38;5;124m\"\u001b[39m\n\u001b[0;32m   (...)\u001b[0m\n\u001b[1;32m     43\u001b[0m         \u001b[38;5;167;01mFutureWarning\u001b[39;00m\n\u001b[1;32m     44\u001b[0m     )\n\u001b[1;32m     45\u001b[0m kwargs\u001b[38;5;241m.\u001b[39mupdate({k: arg \u001b[38;5;28;01mfor\u001b[39;00m k, arg \u001b[38;5;129;01min\u001b[39;00m \u001b[38;5;28mzip\u001b[39m(sig\u001b[38;5;241m.\u001b[39mparameters, args)})\n\u001b[0;32m---> 46\u001b[0m \u001b[38;5;28;01mreturn\u001b[39;00m \u001b[43mf\u001b[49m\u001b[43m(\u001b[49m\u001b[38;5;241;43m*\u001b[39;49m\u001b[38;5;241;43m*\u001b[39;49m\u001b[43mkwargs\u001b[49m\u001b[43m)\u001b[49m\n",
      "File \u001b[0;32m~/miniconda3/envs/cellpose/lib/python3.8/site-packages/seaborn/categorical.py:2243\u001b[0m, in \u001b[0;36mboxplot\u001b[0;34m(x, y, hue, data, order, hue_order, orient, color, palette, saturation, width, dodge, fliersize, linewidth, whis, ax, **kwargs)\u001b[0m\n\u001b[1;32m   2231\u001b[0m \u001b[38;5;129m@_deprecate_positional_args\u001b[39m\n\u001b[1;32m   2232\u001b[0m \u001b[38;5;28;01mdef\u001b[39;00m \u001b[38;5;21mboxplot\u001b[39m(\n\u001b[1;32m   2233\u001b[0m     \u001b[38;5;241m*\u001b[39m,\n\u001b[0;32m   (...)\u001b[0m\n\u001b[1;32m   2240\u001b[0m     \u001b[38;5;241m*\u001b[39m\u001b[38;5;241m*\u001b[39mkwargs\n\u001b[1;32m   2241\u001b[0m ):\n\u001b[0;32m-> 2243\u001b[0m     plotter \u001b[38;5;241m=\u001b[39m \u001b[43m_BoxPlotter\u001b[49m\u001b[43m(\u001b[49m\u001b[43mx\u001b[49m\u001b[43m,\u001b[49m\u001b[43m \u001b[49m\u001b[43my\u001b[49m\u001b[43m,\u001b[49m\u001b[43m \u001b[49m\u001b[43mhue\u001b[49m\u001b[43m,\u001b[49m\u001b[43m \u001b[49m\u001b[43mdata\u001b[49m\u001b[43m,\u001b[49m\u001b[43m \u001b[49m\u001b[43morder\u001b[49m\u001b[43m,\u001b[49m\u001b[43m \u001b[49m\u001b[43mhue_order\u001b[49m\u001b[43m,\u001b[49m\n\u001b[1;32m   2244\u001b[0m \u001b[43m                          \u001b[49m\u001b[43morient\u001b[49m\u001b[43m,\u001b[49m\u001b[43m \u001b[49m\u001b[43mcolor\u001b[49m\u001b[43m,\u001b[49m\u001b[43m \u001b[49m\u001b[43mpalette\u001b[49m\u001b[43m,\u001b[49m\u001b[43m \u001b[49m\u001b[43msaturation\u001b[49m\u001b[43m,\u001b[49m\n\u001b[1;32m   2245\u001b[0m \u001b[43m                          \u001b[49m\u001b[43mwidth\u001b[49m\u001b[43m,\u001b[49m\u001b[43m \u001b[49m\u001b[43mdodge\u001b[49m\u001b[43m,\u001b[49m\u001b[43m \u001b[49m\u001b[43mfliersize\u001b[49m\u001b[43m,\u001b[49m\u001b[43m \u001b[49m\u001b[43mlinewidth\u001b[49m\u001b[43m)\u001b[49m\n\u001b[1;32m   2247\u001b[0m     \u001b[38;5;28;01mif\u001b[39;00m ax \u001b[38;5;129;01mis\u001b[39;00m \u001b[38;5;28;01mNone\u001b[39;00m:\n\u001b[1;32m   2248\u001b[0m         ax \u001b[38;5;241m=\u001b[39m plt\u001b[38;5;241m.\u001b[39mgca()\n",
      "File \u001b[0;32m~/miniconda3/envs/cellpose/lib/python3.8/site-packages/seaborn/categorical.py:406\u001b[0m, in \u001b[0;36m_BoxPlotter.__init__\u001b[0;34m(self, x, y, hue, data, order, hue_order, orient, color, palette, saturation, width, dodge, fliersize, linewidth)\u001b[0m\n\u001b[1;32m    402\u001b[0m \u001b[38;5;28;01mdef\u001b[39;00m \u001b[38;5;21m__init__\u001b[39m(\u001b[38;5;28mself\u001b[39m, x, y, hue, data, order, hue_order,\n\u001b[1;32m    403\u001b[0m              orient, color, palette, saturation,\n\u001b[1;32m    404\u001b[0m              width, dodge, fliersize, linewidth):\n\u001b[0;32m--> 406\u001b[0m     \u001b[38;5;28;43mself\u001b[39;49m\u001b[38;5;241;43m.\u001b[39;49m\u001b[43mestablish_variables\u001b[49m\u001b[43m(\u001b[49m\u001b[43mx\u001b[49m\u001b[43m,\u001b[49m\u001b[43m \u001b[49m\u001b[43my\u001b[49m\u001b[43m,\u001b[49m\u001b[43m \u001b[49m\u001b[43mhue\u001b[49m\u001b[43m,\u001b[49m\u001b[43m \u001b[49m\u001b[43mdata\u001b[49m\u001b[43m,\u001b[49m\u001b[43m \u001b[49m\u001b[43morient\u001b[49m\u001b[43m,\u001b[49m\u001b[43m \u001b[49m\u001b[43morder\u001b[49m\u001b[43m,\u001b[49m\u001b[43m \u001b[49m\u001b[43mhue_order\u001b[49m\u001b[43m)\u001b[49m\n\u001b[1;32m    407\u001b[0m     \u001b[38;5;28mself\u001b[39m\u001b[38;5;241m.\u001b[39mestablish_colors(color, palette, saturation)\n\u001b[1;32m    409\u001b[0m     \u001b[38;5;28mself\u001b[39m\u001b[38;5;241m.\u001b[39mdodge \u001b[38;5;241m=\u001b[39m dodge\n",
      "File \u001b[0;32m~/miniconda3/envs/cellpose/lib/python3.8/site-packages/seaborn/categorical.py:153\u001b[0m, in \u001b[0;36m_CategoricalPlotter.establish_variables\u001b[0;34m(self, x, y, hue, data, orient, order, hue_order, units)\u001b[0m\n\u001b[1;32m    151\u001b[0m     \u001b[38;5;28;01mif\u001b[39;00m \u001b[38;5;28misinstance\u001b[39m(var, \u001b[38;5;28mstr\u001b[39m):\n\u001b[1;32m    152\u001b[0m         err \u001b[38;5;241m=\u001b[39m \u001b[38;5;124m\"\u001b[39m\u001b[38;5;124mCould not interpret input \u001b[39m\u001b[38;5;124m'\u001b[39m\u001b[38;5;132;01m{}\u001b[39;00m\u001b[38;5;124m'\u001b[39m\u001b[38;5;124m\"\u001b[39m\u001b[38;5;241m.\u001b[39mformat(var)\n\u001b[0;32m--> 153\u001b[0m         \u001b[38;5;28;01mraise\u001b[39;00m \u001b[38;5;167;01mValueError\u001b[39;00m(err)\n\u001b[1;32m    155\u001b[0m \u001b[38;5;66;03m# Figure out the plotting orientation\u001b[39;00m\n\u001b[1;32m    156\u001b[0m orient \u001b[38;5;241m=\u001b[39m infer_orient(\n\u001b[1;32m    157\u001b[0m     x, y, orient, require_numeric\u001b[38;5;241m=\u001b[39m\u001b[38;5;28mself\u001b[39m\u001b[38;5;241m.\u001b[39mrequire_numeric\n\u001b[1;32m    158\u001b[0m )\n",
      "\u001b[0;31mValueError\u001b[0m: Could not interpret input 'fret/cfp corr'"
     ]
    }
   ],
   "source": [
    "ax = sns.boxplot(x='tag', y='fret/cfp corr', data=df2)\n",
    "#ax = sns.swarmplot(x='tag', y='fret/cfp corr', data=df2, color='.25')\n",
    "plt.title('Cdk1 Activity')"
   ]
  },
  {
   "cell_type": "code",
   "execution_count": 86,
   "id": "a55334e1-ff1f-47e6-813d-e83b1e23f676",
   "metadata": {},
   "outputs": [
    {
     "data": {
      "text/plain": [
       "Text(0.5, 1.0, 'Cdk1 Activity')"
      ]
     },
     "execution_count": 86,
     "metadata": {},
     "output_type": "execute_result"
    },
    {
     "data": {
      "image/png": "[encoded data removed]",
      "text/plain": [
       "<Figure size 432x288 with 1 Axes>"
      ]
     },
     "metadata": {
      "needs_background": "light"
     },
     "output_type": "display_data"
    }
   ],
   "source": [
    "ax = sns.boxplot(x='tag', y='yfp/cfp corr', data=df2)\n",
    "#ax = sns.swarmplot(x='tag', y='yfp/cfp corr', data=df2, color='.25')\n",
    "plt.title('Cdk1 Activity')"
   ]
  },
  {
   "cell_type": "code",
   "execution_count": 182,
   "id": "6f1566c4-b2d6-47eb-811a-164b6bef2218",
   "metadata": {},
   "outputs": [
    {
     "data": {
      "text/html": [
       "<div>\n",
       "<style scoped>\n",
       "    .dataframe tbody tr th:only-of-type {\n",
       "        vertical-align: middle;\n",
       "    }\n",
       "\n",
       "    .dataframe tbody tr th {\n",
       "        vertical-align: top;\n",
       "    }\n",
       "\n",
       "    .dataframe thead th {\n",
       "        text-align: right;\n",
       "    }\n",
       "</style>\n",
       "<table border=\"1\" class=\"dataframe\">\n",
       "  <thead>\n",
       "    <tr style=\"text-align: right;\">\n",
       "      <th></th>\n",
       "      <th>I_FRET/I_CFP</th>\n",
       "      <th>tag</th>\n",
       "      <th>embryo metadata</th>\n",
       "    </tr>\n",
       "  </thead>\n",
       "  <tbody>\n",
       "    <tr>\n",
       "      <th>0</th>\n",
       "      <td>0.772687</td>\n",
       "      <td>delayed</td>\n",
       "      <td>20220117_series9 manual</td>\n",
       "    </tr>\n",
       "    <tr>\n",
       "      <th>1</th>\n",
       "      <td>0.653188</td>\n",
       "      <td>delayed</td>\n",
       "      <td>20220117_series9 manual</td>\n",
       "    </tr>\n",
       "    <tr>\n",
       "      <th>2</th>\n",
       "      <td>0.614971</td>\n",
       "      <td>delayed</td>\n",
       "      <td>20220117_series9 manual</td>\n",
       "    </tr>\n",
       "    <tr>\n",
       "      <th>3</th>\n",
       "      <td>0.638343</td>\n",
       "      <td>delayed</td>\n",
       "      <td>20220117_series9 manual</td>\n",
       "    </tr>\n",
       "    <tr>\n",
       "      <th>4</th>\n",
       "      <td>0.584084</td>\n",
       "      <td>delayed</td>\n",
       "      <td>20220117_series9 manual</td>\n",
       "    </tr>\n",
       "    <tr>\n",
       "      <th>5</th>\n",
       "      <td>0.643510</td>\n",
       "      <td>delayed</td>\n",
       "      <td>20220117_series9 manual</td>\n",
       "    </tr>\n",
       "    <tr>\n",
       "      <th>6</th>\n",
       "      <td>0.558848</td>\n",
       "      <td>delayed</td>\n",
       "      <td>20220117_series9 manual</td>\n",
       "    </tr>\n",
       "    <tr>\n",
       "      <th>7</th>\n",
       "      <td>0.670731</td>\n",
       "      <td>delayed</td>\n",
       "      <td>20220117_series9 manual</td>\n",
       "    </tr>\n",
       "    <tr>\n",
       "      <th>8</th>\n",
       "      <td>0.652280</td>\n",
       "      <td>delayed</td>\n",
       "      <td>20220117_series9 manual</td>\n",
       "    </tr>\n",
       "    <tr>\n",
       "      <th>9</th>\n",
       "      <td>0.623714</td>\n",
       "      <td>normal</td>\n",
       "      <td>20220117_series9 manual</td>\n",
       "    </tr>\n",
       "    <tr>\n",
       "      <th>10</th>\n",
       "      <td>0.619415</td>\n",
       "      <td>normal</td>\n",
       "      <td>20220117_series9 manual</td>\n",
       "    </tr>\n",
       "    <tr>\n",
       "      <th>11</th>\n",
       "      <td>0.594414</td>\n",
       "      <td>normal</td>\n",
       "      <td>20220117_series9 manual</td>\n",
       "    </tr>\n",
       "    <tr>\n",
       "      <th>12</th>\n",
       "      <td>0.564197</td>\n",
       "      <td>normal</td>\n",
       "      <td>20220117_series9 manual</td>\n",
       "    </tr>\n",
       "    <tr>\n",
       "      <th>13</th>\n",
       "      <td>0.563607</td>\n",
       "      <td>normal</td>\n",
       "      <td>20220117_series9 manual</td>\n",
       "    </tr>\n",
       "    <tr>\n",
       "      <th>14</th>\n",
       "      <td>0.603006</td>\n",
       "      <td>normal</td>\n",
       "      <td>20220117_series9 manual</td>\n",
       "    </tr>\n",
       "    <tr>\n",
       "      <th>15</th>\n",
       "      <td>0.552273</td>\n",
       "      <td>normal</td>\n",
       "      <td>20220117_series9 manual</td>\n",
       "    </tr>\n",
       "    <tr>\n",
       "      <th>16</th>\n",
       "      <td>0.530484</td>\n",
       "      <td>normal</td>\n",
       "      <td>20220117_series9 manual</td>\n",
       "    </tr>\n",
       "    <tr>\n",
       "      <th>17</th>\n",
       "      <td>0.631692</td>\n",
       "      <td>normal</td>\n",
       "      <td>20220117_series9 manual</td>\n",
       "    </tr>\n",
       "  </tbody>\n",
       "</table>\n",
       "</div>"
      ],
      "text/plain": [
       "    I_FRET/I_CFP      tag          embryo metadata\n",
       "0       0.772687  delayed  20220117_series9 manual\n",
       "1       0.653188  delayed  20220117_series9 manual\n",
       "2       0.614971  delayed  20220117_series9 manual\n",
       "3       0.638343  delayed  20220117_series9 manual\n",
       "4       0.584084  delayed  20220117_series9 manual\n",
       "5       0.643510  delayed  20220117_series9 manual\n",
       "6       0.558848  delayed  20220117_series9 manual\n",
       "7       0.670731  delayed  20220117_series9 manual\n",
       "8       0.652280  delayed  20220117_series9 manual\n",
       "9       0.623714   normal  20220117_series9 manual\n",
       "10      0.619415   normal  20220117_series9 manual\n",
       "11      0.594414   normal  20220117_series9 manual\n",
       "12      0.564197   normal  20220117_series9 manual\n",
       "13      0.563607   normal  20220117_series9 manual\n",
       "14      0.603006   normal  20220117_series9 manual\n",
       "15      0.552273   normal  20220117_series9 manual\n",
       "16      0.530484   normal  20220117_series9 manual\n",
       "17      0.631692   normal  20220117_series9 manual"
      ]
     },
     "execution_count": 182,
     "metadata": {},
     "output_type": "execute_result"
    }
   ],
   "source": [
    "df2 "
   ]
  },
  {
   "cell_type": "code",
   "execution_count": 88,
   "id": "defd8a9c-3de1-4312-96d9-ff70c5df7c0e",
   "metadata": {},
   "outputs": [],
   "source": [
    "df2['fret/yfp corr'] = df2['mean_int_fret_corr']/df2['mean_int_yfp_corr']"
   ]
  },
  {
   "cell_type": "code",
   "execution_count": 90,
   "id": "90a3a751-b0c1-41ce-bb2e-05d459fab3ed",
   "metadata": {},
   "outputs": [
    {
     "data": {
      "text/plain": [
       "Text(0.5, 1.0, 'Cdk1 Activity')"
      ]
     },
     "execution_count": 90,
     "metadata": {},
     "output_type": "execute_result"
    },
    {
     "data": {
      "image/png": "[encoded data removed]",
      "text/plain": [
       "<Figure size 432x288 with 1 Axes>"
      ]
     },
     "metadata": {
      "needs_background": "light"
     },
     "output_type": "display_data"
    }
   ],
   "source": [
    "ax = sns.boxplot(x='tag', y='fret/yfp corr', data=df2)\n",
    "#ax = sns.swarmplot(x='tag', y='yfp/cfp corr', data=df2, color='.25')\n",
    "plt.title('Cdk1 Activity')"
   ]
  },
  {
   "cell_type": "code",
   "execution_count": 91,
   "id": "29c9aee6-dfc5-469c-8722-7b0880c7f082",
   "metadata": {},
   "outputs": [
    {
     "data": {
      "image/png": "[encoded data removed]",
      "text/plain": [
       "<Figure size 432x288 with 1 Axes>"
      ]
     },
     "metadata": {
      "needs_background": "light"
     },
     "output_type": "display_data"
    }
   ],
   "source": [
    "ax = sns.boxplot(x='tag', y='mean_int_sqh', data=df2)\n",
    "ax = sns.swarmplot(x='tag', y='mean_int_sqh', data=df2, color='.25')"
   ]
  },
  {
   "cell_type": "code",
   "execution_count": 92,
   "id": "e9d1b312-9748-46c3-87d8-aa90f483616e",
   "metadata": {},
   "outputs": [
    {
     "data": {
      "image/png": "[encoded data removed]",
      "text/plain": [
       "<Figure size 432x288 with 1 Axes>"
      ]
     },
     "metadata": {
      "needs_background": "light"
     },
     "output_type": "display_data"
    }
   ],
   "source": [
    "ax = sns.boxplot(x='tag', y='fret/yfp corr', data=df2)\n",
    "#ax = sns.swarmplot(x='tag', y='mean_int_sqh', data=df2, color='.25')\n"
   ]
  },
  {
   "cell_type": "code",
   "execution_count": 98,
   "id": "9b7ed9c6-3499-4615-a613-e00fccca7912",
   "metadata": {},
   "outputs": [
    {
     "data": {
      "text/html": [
       "<div>\n",
       "<style scoped>\n",
       "    .dataframe tbody tr th:only-of-type {\n",
       "        vertical-align: middle;\n",
       "    }\n",
       "\n",
       "    .dataframe tbody tr th {\n",
       "        vertical-align: top;\n",
       "    }\n",
       "\n",
       "    .dataframe thead th {\n",
       "        text-align: right;\n",
       "    }\n",
       "</style>\n",
       "<table border=\"1\" class=\"dataframe\">\n",
       "  <thead>\n",
       "    <tr style=\"text-align: right;\">\n",
       "      <th></th>\n",
       "      <th>fret/cfp corr</th>\n",
       "      <th>tag</th>\n",
       "    </tr>\n",
       "  </thead>\n",
       "  <tbody>\n",
       "    <tr>\n",
       "      <th>0</th>\n",
       "      <td>0.772687</td>\n",
       "      <td>delayed</td>\n",
       "    </tr>\n",
       "    <tr>\n",
       "      <th>1</th>\n",
       "      <td>0.653188</td>\n",
       "      <td>delayed</td>\n",
       "    </tr>\n",
       "    <tr>\n",
       "      <th>2</th>\n",
       "      <td>0.614971</td>\n",
       "      <td>delayed</td>\n",
       "    </tr>\n",
       "    <tr>\n",
       "      <th>3</th>\n",
       "      <td>0.638343</td>\n",
       "      <td>delayed</td>\n",
       "    </tr>\n",
       "    <tr>\n",
       "      <th>4</th>\n",
       "      <td>0.584084</td>\n",
       "      <td>delayed</td>\n",
       "    </tr>\n",
       "  </tbody>\n",
       "</table>\n",
       "</div>"
      ],
      "text/plain": [
       "   fret/cfp corr      tag\n",
       "0       0.772687  delayed\n",
       "1       0.653188  delayed\n",
       "2       0.614971  delayed\n",
       "3       0.638343  delayed\n",
       "4       0.584084  delayed"
      ]
     },
     "execution_count": 98,
     "metadata": {},
     "output_type": "execute_result"
    }
   ],
   "source": [
    "df2.head(5)"
   ]
  },
  {
   "cell_type": "code",
   "execution_count": 96,
   "id": "a902eff4-eb6e-4382-b4e1-d719221c85d4",
   "metadata": {},
   "outputs": [],
   "source": [
    "df2 = df2.loc[:,['fret/cfp corr','tag']]"
   ]
  },
  {
   "cell_type": "code",
   "execution_count": 97,
   "id": "9c4562be-fc49-412f-b7ef-84fedb99df48",
   "metadata": {},
   "outputs": [
    {
     "ename": "ValueError",
     "evalue": "Could not interpret input 'fret/cfp cyto'",
     "output_type": "error",
     "traceback": [
      "\u001b[0;31m---------------------------------------------------------------------------\u001b[0m",
      "\u001b[0;31mValueError\u001b[0m                                Traceback (most recent call last)",
      "Input \u001b[0;32mIn [97]\u001b[0m, in \u001b[0;36m<module>\u001b[0;34m\u001b[0m\n\u001b[0;32m----> 1\u001b[0m ax \u001b[38;5;241m=\u001b[39m \u001b[43msns\u001b[49m\u001b[38;5;241;43m.\u001b[39;49m\u001b[43mboxplot\u001b[49m\u001b[43m(\u001b[49m\u001b[43mx\u001b[49m\u001b[38;5;241;43m=\u001b[39;49m\u001b[38;5;124;43m'\u001b[39;49m\u001b[38;5;124;43mtag\u001b[39;49m\u001b[38;5;124;43m'\u001b[39;49m\u001b[43m,\u001b[49m\u001b[43m \u001b[49m\u001b[43my\u001b[49m\u001b[38;5;241;43m=\u001b[39;49m\u001b[38;5;124;43m'\u001b[39;49m\u001b[38;5;124;43mfret/cfp cyto\u001b[39;49m\u001b[38;5;124;43m'\u001b[39;49m\u001b[43m,\u001b[49m\u001b[43m \u001b[49m\u001b[43mdata\u001b[49m\u001b[38;5;241;43m=\u001b[39;49m\u001b[43mdf2\u001b[49m\u001b[43m)\u001b[49m\n",
      "File \u001b[0;32m~/miniconda3/envs/cellpose/lib/python3.8/site-packages/seaborn/_decorators.py:46\u001b[0m, in \u001b[0;36m_deprecate_positional_args.<locals>.inner_f\u001b[0;34m(*args, **kwargs)\u001b[0m\n\u001b[1;32m     36\u001b[0m     warnings\u001b[38;5;241m.\u001b[39mwarn(\n\u001b[1;32m     37\u001b[0m         \u001b[38;5;124m\"\u001b[39m\u001b[38;5;124mPass the following variable\u001b[39m\u001b[38;5;132;01m{}\u001b[39;00m\u001b[38;5;124m as \u001b[39m\u001b[38;5;132;01m{}\u001b[39;00m\u001b[38;5;124mkeyword arg\u001b[39m\u001b[38;5;132;01m{}\u001b[39;00m\u001b[38;5;124m: \u001b[39m\u001b[38;5;132;01m{}\u001b[39;00m\u001b[38;5;124m. \u001b[39m\u001b[38;5;124m\"\u001b[39m\n\u001b[1;32m     38\u001b[0m         \u001b[38;5;124m\"\u001b[39m\u001b[38;5;124mFrom version 0.12, the only valid positional argument \u001b[39m\u001b[38;5;124m\"\u001b[39m\n\u001b[0;32m   (...)\u001b[0m\n\u001b[1;32m     43\u001b[0m         \u001b[38;5;167;01mFutureWarning\u001b[39;00m\n\u001b[1;32m     44\u001b[0m     )\n\u001b[1;32m     45\u001b[0m kwargs\u001b[38;5;241m.\u001b[39mupdate({k: arg \u001b[38;5;28;01mfor\u001b[39;00m k, arg \u001b[38;5;129;01min\u001b[39;00m \u001b[38;5;28mzip\u001b[39m(sig\u001b[38;5;241m.\u001b[39mparameters, args)})\n\u001b[0;32m---> 46\u001b[0m \u001b[38;5;28;01mreturn\u001b[39;00m \u001b[43mf\u001b[49m\u001b[43m(\u001b[49m\u001b[38;5;241;43m*\u001b[39;49m\u001b[38;5;241;43m*\u001b[39;49m\u001b[43mkwargs\u001b[49m\u001b[43m)\u001b[49m\n",
      "File \u001b[0;32m~/miniconda3/envs/cellpose/lib/python3.8/site-packages/seaborn/categorical.py:2243\u001b[0m, in \u001b[0;36mboxplot\u001b[0;34m(x, y, hue, data, order, hue_order, orient, color, palette, saturation, width, dodge, fliersize, linewidth, whis, ax, **kwargs)\u001b[0m\n\u001b[1;32m   2231\u001b[0m \u001b[38;5;129m@_deprecate_positional_args\u001b[39m\n\u001b[1;32m   2232\u001b[0m \u001b[38;5;28;01mdef\u001b[39;00m \u001b[38;5;21mboxplot\u001b[39m(\n\u001b[1;32m   2233\u001b[0m     \u001b[38;5;241m*\u001b[39m,\n\u001b[0;32m   (...)\u001b[0m\n\u001b[1;32m   2240\u001b[0m     \u001b[38;5;241m*\u001b[39m\u001b[38;5;241m*\u001b[39mkwargs\n\u001b[1;32m   2241\u001b[0m ):\n\u001b[0;32m-> 2243\u001b[0m     plotter \u001b[38;5;241m=\u001b[39m \u001b[43m_BoxPlotter\u001b[49m\u001b[43m(\u001b[49m\u001b[43mx\u001b[49m\u001b[43m,\u001b[49m\u001b[43m \u001b[49m\u001b[43my\u001b[49m\u001b[43m,\u001b[49m\u001b[43m \u001b[49m\u001b[43mhue\u001b[49m\u001b[43m,\u001b[49m\u001b[43m \u001b[49m\u001b[43mdata\u001b[49m\u001b[43m,\u001b[49m\u001b[43m \u001b[49m\u001b[43morder\u001b[49m\u001b[43m,\u001b[49m\u001b[43m \u001b[49m\u001b[43mhue_order\u001b[49m\u001b[43m,\u001b[49m\n\u001b[1;32m   2244\u001b[0m \u001b[43m                          \u001b[49m\u001b[43morient\u001b[49m\u001b[43m,\u001b[49m\u001b[43m \u001b[49m\u001b[43mcolor\u001b[49m\u001b[43m,\u001b[49m\u001b[43m \u001b[49m\u001b[43mpalette\u001b[49m\u001b[43m,\u001b[49m\u001b[43m \u001b[49m\u001b[43msaturation\u001b[49m\u001b[43m,\u001b[49m\n\u001b[1;32m   2245\u001b[0m \u001b[43m                          \u001b[49m\u001b[43mwidth\u001b[49m\u001b[43m,\u001b[49m\u001b[43m \u001b[49m\u001b[43mdodge\u001b[49m\u001b[43m,\u001b[49m\u001b[43m \u001b[49m\u001b[43mfliersize\u001b[49m\u001b[43m,\u001b[49m\u001b[43m \u001b[49m\u001b[43mlinewidth\u001b[49m\u001b[43m)\u001b[49m\n\u001b[1;32m   2247\u001b[0m     \u001b[38;5;28;01mif\u001b[39;00m ax \u001b[38;5;129;01mis\u001b[39;00m \u001b[38;5;28;01mNone\u001b[39;00m:\n\u001b[1;32m   2248\u001b[0m         ax \u001b[38;5;241m=\u001b[39m plt\u001b[38;5;241m.\u001b[39mgca()\n",
      "File \u001b[0;32m~/miniconda3/envs/cellpose/lib/python3.8/site-packages/seaborn/categorical.py:406\u001b[0m, in \u001b[0;36m_BoxPlotter.__init__\u001b[0;34m(self, x, y, hue, data, order, hue_order, orient, color, palette, saturation, width, dodge, fliersize, linewidth)\u001b[0m\n\u001b[1;32m    402\u001b[0m \u001b[38;5;28;01mdef\u001b[39;00m \u001b[38;5;21m__init__\u001b[39m(\u001b[38;5;28mself\u001b[39m, x, y, hue, data, order, hue_order,\n\u001b[1;32m    403\u001b[0m              orient, color, palette, saturation,\n\u001b[1;32m    404\u001b[0m              width, dodge, fliersize, linewidth):\n\u001b[0;32m--> 406\u001b[0m     \u001b[38;5;28;43mself\u001b[39;49m\u001b[38;5;241;43m.\u001b[39;49m\u001b[43mestablish_variables\u001b[49m\u001b[43m(\u001b[49m\u001b[43mx\u001b[49m\u001b[43m,\u001b[49m\u001b[43m \u001b[49m\u001b[43my\u001b[49m\u001b[43m,\u001b[49m\u001b[43m \u001b[49m\u001b[43mhue\u001b[49m\u001b[43m,\u001b[49m\u001b[43m \u001b[49m\u001b[43mdata\u001b[49m\u001b[43m,\u001b[49m\u001b[43m \u001b[49m\u001b[43morient\u001b[49m\u001b[43m,\u001b[49m\u001b[43m \u001b[49m\u001b[43morder\u001b[49m\u001b[43m,\u001b[49m\u001b[43m \u001b[49m\u001b[43mhue_order\u001b[49m\u001b[43m)\u001b[49m\n\u001b[1;32m    407\u001b[0m     \u001b[38;5;28mself\u001b[39m\u001b[38;5;241m.\u001b[39mestablish_colors(color, palette, saturation)\n\u001b[1;32m    409\u001b[0m     \u001b[38;5;28mself\u001b[39m\u001b[38;5;241m.\u001b[39mdodge \u001b[38;5;241m=\u001b[39m dodge\n",
      "File \u001b[0;32m~/miniconda3/envs/cellpose/lib/python3.8/site-packages/seaborn/categorical.py:153\u001b[0m, in \u001b[0;36m_CategoricalPlotter.establish_variables\u001b[0;34m(self, x, y, hue, data, orient, order, hue_order, units)\u001b[0m\n\u001b[1;32m    151\u001b[0m     \u001b[38;5;28;01mif\u001b[39;00m \u001b[38;5;28misinstance\u001b[39m(var, \u001b[38;5;28mstr\u001b[39m):\n\u001b[1;32m    152\u001b[0m         err \u001b[38;5;241m=\u001b[39m \u001b[38;5;124m\"\u001b[39m\u001b[38;5;124mCould not interpret input \u001b[39m\u001b[38;5;124m'\u001b[39m\u001b[38;5;132;01m{}\u001b[39;00m\u001b[38;5;124m'\u001b[39m\u001b[38;5;124m\"\u001b[39m\u001b[38;5;241m.\u001b[39mformat(var)\n\u001b[0;32m--> 153\u001b[0m         \u001b[38;5;28;01mraise\u001b[39;00m \u001b[38;5;167;01mValueError\u001b[39;00m(err)\n\u001b[1;32m    155\u001b[0m \u001b[38;5;66;03m# Figure out the plotting orientation\u001b[39;00m\n\u001b[1;32m    156\u001b[0m orient \u001b[38;5;241m=\u001b[39m infer_orient(\n\u001b[1;32m    157\u001b[0m     x, y, orient, require_numeric\u001b[38;5;241m=\u001b[39m\u001b[38;5;28mself\u001b[39m\u001b[38;5;241m.\u001b[39mrequire_numeric\n\u001b[1;32m    158\u001b[0m )\n",
      "\u001b[0;31mValueError\u001b[0m: Could not interpret input 'fret/cfp cyto'"
     ]
    }
   ],
   "source": [
    "ax = sns.boxplot(x='tag', y='fret/cfp cyto', data=df2)"
   ]
  },
  {
   "cell_type": "code",
   "execution_count": 111,
   "id": "8e4f9191-4d56-4b1f-8f62-fb82e89e423b",
   "metadata": {},
   "outputs": [
    {
     "data": {
      "image/png": "[encoded data removed]",
      "text/plain": [
       "<Figure size 432x288 with 1 Axes>"
      ]
     },
     "metadata": {
      "needs_background": "light"
     },
     "output_type": "display_data"
    }
   ],
   "source": [
    "ax = sns.boxplot(x='tag', y='yfp/cfp cyto', data=df2)"
   ]
  },
  {
   "cell_type": "code",
   "execution_count": 181,
   "id": "2676427c-c724-44f8-bdb9-618f806978cf",
   "metadata": {},
   "outputs": [
    {
     "ename": "ValueError",
     "evalue": "Could not interpret input 'fret/yfp cyto'",
     "output_type": "error",
     "traceback": [
      "\u001b[0;31m---------------------------------------------------------------------------\u001b[0m",
      "\u001b[0;31mValueError\u001b[0m                                Traceback (most recent call last)",
      "Input \u001b[0;32mIn [181]\u001b[0m, in \u001b[0;36m<module>\u001b[0;34m\u001b[0m\n\u001b[0;32m----> 1\u001b[0m ax \u001b[38;5;241m=\u001b[39m \u001b[43msns\u001b[49m\u001b[38;5;241;43m.\u001b[39;49m\u001b[43mboxplot\u001b[49m\u001b[43m(\u001b[49m\u001b[43mx\u001b[49m\u001b[38;5;241;43m=\u001b[39;49m\u001b[38;5;124;43m'\u001b[39;49m\u001b[38;5;124;43mtag\u001b[39;49m\u001b[38;5;124;43m'\u001b[39;49m\u001b[43m,\u001b[49m\u001b[43m \u001b[49m\u001b[43my\u001b[49m\u001b[38;5;241;43m=\u001b[39;49m\u001b[38;5;124;43m'\u001b[39;49m\u001b[38;5;124;43mfret/yfp cyto\u001b[39;49m\u001b[38;5;124;43m'\u001b[39;49m\u001b[43m,\u001b[49m\u001b[43m \u001b[49m\u001b[43mdata\u001b[49m\u001b[38;5;241;43m=\u001b[39;49m\u001b[43mdf2\u001b[49m\u001b[43m)\u001b[49m\n",
      "File \u001b[0;32m~/miniconda3/envs/cellpose/lib/python3.8/site-packages/seaborn/_decorators.py:46\u001b[0m, in \u001b[0;36m_deprecate_positional_args.<locals>.inner_f\u001b[0;34m(*args, **kwargs)\u001b[0m\n\u001b[1;32m     36\u001b[0m     warnings\u001b[38;5;241m.\u001b[39mwarn(\n\u001b[1;32m     37\u001b[0m         \u001b[38;5;124m\"\u001b[39m\u001b[38;5;124mPass the following variable\u001b[39m\u001b[38;5;132;01m{}\u001b[39;00m\u001b[38;5;124m as \u001b[39m\u001b[38;5;132;01m{}\u001b[39;00m\u001b[38;5;124mkeyword arg\u001b[39m\u001b[38;5;132;01m{}\u001b[39;00m\u001b[38;5;124m: \u001b[39m\u001b[38;5;132;01m{}\u001b[39;00m\u001b[38;5;124m. \u001b[39m\u001b[38;5;124m\"\u001b[39m\n\u001b[1;32m     38\u001b[0m         \u001b[38;5;124m\"\u001b[39m\u001b[38;5;124mFrom version 0.12, the only valid positional argument \u001b[39m\u001b[38;5;124m\"\u001b[39m\n\u001b[0;32m   (...)\u001b[0m\n\u001b[1;32m     43\u001b[0m         \u001b[38;5;167;01mFutureWarning\u001b[39;00m\n\u001b[1;32m     44\u001b[0m     )\n\u001b[1;32m     45\u001b[0m kwargs\u001b[38;5;241m.\u001b[39mupdate({k: arg \u001b[38;5;28;01mfor\u001b[39;00m k, arg \u001b[38;5;129;01min\u001b[39;00m \u001b[38;5;28mzip\u001b[39m(sig\u001b[38;5;241m.\u001b[39mparameters, args)})\n\u001b[0;32m---> 46\u001b[0m \u001b[38;5;28;01mreturn\u001b[39;00m \u001b[43mf\u001b[49m\u001b[43m(\u001b[49m\u001b[38;5;241;43m*\u001b[39;49m\u001b[38;5;241;43m*\u001b[39;49m\u001b[43mkwargs\u001b[49m\u001b[43m)\u001b[49m\n",
      "File \u001b[0;32m~/miniconda3/envs/cellpose/lib/python3.8/site-packages/seaborn/categorical.py:2243\u001b[0m, in \u001b[0;36mboxplot\u001b[0;34m(x, y, hue, data, order, hue_order, orient, color, palette, saturation, width, dodge, fliersize, linewidth, whis, ax, **kwargs)\u001b[0m\n\u001b[1;32m   2231\u001b[0m \u001b[38;5;129m@_deprecate_positional_args\u001b[39m\n\u001b[1;32m   2232\u001b[0m \u001b[38;5;28;01mdef\u001b[39;00m \u001b[38;5;21mboxplot\u001b[39m(\n\u001b[1;32m   2233\u001b[0m     \u001b[38;5;241m*\u001b[39m,\n\u001b[0;32m   (...)\u001b[0m\n\u001b[1;32m   2240\u001b[0m     \u001b[38;5;241m*\u001b[39m\u001b[38;5;241m*\u001b[39mkwargs\n\u001b[1;32m   2241\u001b[0m ):\n\u001b[0;32m-> 2243\u001b[0m     plotter \u001b[38;5;241m=\u001b[39m \u001b[43m_BoxPlotter\u001b[49m\u001b[43m(\u001b[49m\u001b[43mx\u001b[49m\u001b[43m,\u001b[49m\u001b[43m \u001b[49m\u001b[43my\u001b[49m\u001b[43m,\u001b[49m\u001b[43m \u001b[49m\u001b[43mhue\u001b[49m\u001b[43m,\u001b[49m\u001b[43m \u001b[49m\u001b[43mdata\u001b[49m\u001b[43m,\u001b[49m\u001b[43m \u001b[49m\u001b[43morder\u001b[49m\u001b[43m,\u001b[49m\u001b[43m \u001b[49m\u001b[43mhue_order\u001b[49m\u001b[43m,\u001b[49m\n\u001b[1;32m   2244\u001b[0m \u001b[43m                          \u001b[49m\u001b[43morient\u001b[49m\u001b[43m,\u001b[49m\u001b[43m \u001b[49m\u001b[43mcolor\u001b[49m\u001b[43m,\u001b[49m\u001b[43m \u001b[49m\u001b[43mpalette\u001b[49m\u001b[43m,\u001b[49m\u001b[43m \u001b[49m\u001b[43msaturation\u001b[49m\u001b[43m,\u001b[49m\n\u001b[1;32m   2245\u001b[0m \u001b[43m                          \u001b[49m\u001b[43mwidth\u001b[49m\u001b[43m,\u001b[49m\u001b[43m \u001b[49m\u001b[43mdodge\u001b[49m\u001b[43m,\u001b[49m\u001b[43m \u001b[49m\u001b[43mfliersize\u001b[49m\u001b[43m,\u001b[49m\u001b[43m \u001b[49m\u001b[43mlinewidth\u001b[49m\u001b[43m)\u001b[49m\n\u001b[1;32m   2247\u001b[0m     \u001b[38;5;28;01mif\u001b[39;00m ax \u001b[38;5;129;01mis\u001b[39;00m \u001b[38;5;28;01mNone\u001b[39;00m:\n\u001b[1;32m   2248\u001b[0m         ax \u001b[38;5;241m=\u001b[39m plt\u001b[38;5;241m.\u001b[39mgca()\n",
      "File \u001b[0;32m~/miniconda3/envs/cellpose/lib/python3.8/site-packages/seaborn/categorical.py:406\u001b[0m, in \u001b[0;36m_BoxPlotter.__init__\u001b[0;34m(self, x, y, hue, data, order, hue_order, orient, color, palette, saturation, width, dodge, fliersize, linewidth)\u001b[0m\n\u001b[1;32m    402\u001b[0m \u001b[38;5;28;01mdef\u001b[39;00m \u001b[38;5;21m__init__\u001b[39m(\u001b[38;5;28mself\u001b[39m, x, y, hue, data, order, hue_order,\n\u001b[1;32m    403\u001b[0m              orient, color, palette, saturation,\n\u001b[1;32m    404\u001b[0m              width, dodge, fliersize, linewidth):\n\u001b[0;32m--> 406\u001b[0m     \u001b[38;5;28;43mself\u001b[39;49m\u001b[38;5;241;43m.\u001b[39;49m\u001b[43mestablish_variables\u001b[49m\u001b[43m(\u001b[49m\u001b[43mx\u001b[49m\u001b[43m,\u001b[49m\u001b[43m \u001b[49m\u001b[43my\u001b[49m\u001b[43m,\u001b[49m\u001b[43m \u001b[49m\u001b[43mhue\u001b[49m\u001b[43m,\u001b[49m\u001b[43m \u001b[49m\u001b[43mdata\u001b[49m\u001b[43m,\u001b[49m\u001b[43m \u001b[49m\u001b[43morient\u001b[49m\u001b[43m,\u001b[49m\u001b[43m \u001b[49m\u001b[43morder\u001b[49m\u001b[43m,\u001b[49m\u001b[43m \u001b[49m\u001b[43mhue_order\u001b[49m\u001b[43m)\u001b[49m\n\u001b[1;32m    407\u001b[0m     \u001b[38;5;28mself\u001b[39m\u001b[38;5;241m.\u001b[39mestablish_colors(color, palette, saturation)\n\u001b[1;32m    409\u001b[0m     \u001b[38;5;28mself\u001b[39m\u001b[38;5;241m.\u001b[39mdodge \u001b[38;5;241m=\u001b[39m dodge\n",
      "File \u001b[0;32m~/miniconda3/envs/cellpose/lib/python3.8/site-packages/seaborn/categorical.py:153\u001b[0m, in \u001b[0;36m_CategoricalPlotter.establish_variables\u001b[0;34m(self, x, y, hue, data, orient, order, hue_order, units)\u001b[0m\n\u001b[1;32m    151\u001b[0m     \u001b[38;5;28;01mif\u001b[39;00m \u001b[38;5;28misinstance\u001b[39m(var, \u001b[38;5;28mstr\u001b[39m):\n\u001b[1;32m    152\u001b[0m         err \u001b[38;5;241m=\u001b[39m \u001b[38;5;124m\"\u001b[39m\u001b[38;5;124mCould not interpret input \u001b[39m\u001b[38;5;124m'\u001b[39m\u001b[38;5;132;01m{}\u001b[39;00m\u001b[38;5;124m'\u001b[39m\u001b[38;5;124m\"\u001b[39m\u001b[38;5;241m.\u001b[39mformat(var)\n\u001b[0;32m--> 153\u001b[0m         \u001b[38;5;28;01mraise\u001b[39;00m \u001b[38;5;167;01mValueError\u001b[39;00m(err)\n\u001b[1;32m    155\u001b[0m \u001b[38;5;66;03m# Figure out the plotting orientation\u001b[39;00m\n\u001b[1;32m    156\u001b[0m orient \u001b[38;5;241m=\u001b[39m infer_orient(\n\u001b[1;32m    157\u001b[0m     x, y, orient, require_numeric\u001b[38;5;241m=\u001b[39m\u001b[38;5;28mself\u001b[39m\u001b[38;5;241m.\u001b[39mrequire_numeric\n\u001b[1;32m    158\u001b[0m )\n",
      "\u001b[0;31mValueError\u001b[0m: Could not interpret input 'fret/yfp cyto'"
     ]
    }
   ],
   "source": [
    "ax = sns.boxplot(x='tag', y='fret/yfp cyto', data=df2)"
   ]
  },
  {
   "cell_type": "code",
   "execution_count": 150,
   "id": "cc3d4a2f-1982-4f5a-a456-c8ff1e173f8d",
   "metadata": {},
   "outputs": [
    {
     "data": {
      "image/png": "[encoded data removed]",
      "text/plain": [
       "<Figure size 432x288 with 1 Axes>"
      ]
     },
     "metadata": {
      "needs_background": "light"
     },
     "output_type": "display_data"
    }
   ],
   "source": [
    "ax = sns.boxplot(x='tag', y='yfp_bg',hue='tag',  data=df2)"
   ]
  },
  {
   "cell_type": "markdown",
   "id": "98e5699b-920c-4a5d-88f0-9e20a111add7",
   "metadata": {},
   "source": [
    "# 20220117_series8 t=9 automated"
   ]
  },
  {
   "cell_type": "code",
   "execution_count": 99,
   "id": "b3bb447e-f6f7-45ea-a97d-14a8802fb72d",
   "metadata": {},
   "outputs": [],
   "source": [
    "df_s8 = pd.read_csv('../outputs/20220117_series8/t9_fret_measurements_combined.csv')"
   ]
  },
  {
   "cell_type": "code",
   "execution_count": 100,
   "id": "966513cd-3e77-4146-baf3-340dff89dbfc",
   "metadata": {},
   "outputs": [],
   "source": [
    "df_s8 = df_s8.drop(['Unnamed: 0'], axis=1)"
   ]
  },
  {
   "cell_type": "code",
   "execution_count": 101,
   "id": "9fce27d5-d9ac-4828-b95b-7f1a59487c42",
   "metadata": {},
   "outputs": [
    {
     "data": {
      "text/plain": [
       "Text(0, 0.5, 'Emission Ratio')"
      ]
     },
     "execution_count": 101,
     "metadata": {},
     "output_type": "execute_result"
    },
    {
     "data": {
      "image/png": "[encoded data removed]",
      "text/plain": [
       "<Figure size 432x288 with 1 Axes>"
      ]
     },
     "metadata": {
      "needs_background": "light"
     },
     "output_type": "display_data"
    }
   ],
   "source": [
    "ax = sns.boxplot(x='tag', y='I_FRET/I_CFP', data=df_s8) \n",
    "plt.ylabel('Emission Ratio')"
   ]
  },
  {
   "cell_type": "markdown",
   "id": "e7426def-23b9-489e-88a1-fcc095db82ca",
   "metadata": {},
   "source": [
    "# Importing 20220117_series9 automated"
   ]
  },
  {
   "cell_type": "code",
   "execution_count": 103,
   "id": "fd2b4984-3d48-454b-8e29-ca5252f07707",
   "metadata": {},
   "outputs": [],
   "source": [
    "df_s9 = pd.read_csv('../outputs/20220117_series9/t3_z12_fret_measurements.csv').drop(columns=['Unnamed: 0'])"
   ]
  },
  {
   "cell_type": "code",
   "execution_count": 104,
   "id": "a751dfc0-005f-45bf-9181-5e97feffdc21",
   "metadata": {},
   "outputs": [],
   "source": [
    "df_s9['embryo metadata'] = ['20220117_series9 auto' for i in range(len(df_s9))]"
   ]
  },
  {
   "cell_type": "code",
   "execution_count": 105,
   "id": "5bfc3bcd-8759-409c-82e8-ef5635d6679b",
   "metadata": {},
   "outputs": [],
   "source": [
    "series = df_s9['Delayed Nuclei (I_FRET/I_CFP)']"
   ]
  },
  {
   "cell_type": "code",
   "execution_count": 107,
   "id": "21031dea-c593-4ff8-adca-76eaedb8de9b",
   "metadata": {},
   "outputs": [],
   "source": [
    "ser = pd.concat([df_s9['Normal Nuclei (I_FRET/I_CFP)'],\n",
    "                                                   df_s9['Delayed Nuclei (I_FRET/I_CFP)']], ignore_index=True)\n",
    "ser2 = ['normal' for i in range(int(len(ser)/2))] + ['delayed' for i in range((int(len(ser)/2)))]\n",
    "ser3 = ['20220117_series9 auto' for i in range(len(ser))]\n",
    "\n",
    "df_s9 = pd.DataFrame({'I_FRET/I_CFP':ser, 'tag': ser2, 'embryo metadata': ser3})"
   ]
  },
  {
   "cell_type": "code",
   "execution_count": 108,
   "id": "c6b01654-9b6d-4753-8ad8-0578143b378f",
   "metadata": {
    "collapsed": true,
    "jupyter": {
     "outputs_hidden": true
    },
    "tags": []
   },
   "outputs": [
    {
     "data": {
      "text/html": [
       "<div>\n",
       "<style scoped>\n",
       "    .dataframe tbody tr th:only-of-type {\n",
       "        vertical-align: middle;\n",
       "    }\n",
       "\n",
       "    .dataframe tbody tr th {\n",
       "        vertical-align: top;\n",
       "    }\n",
       "\n",
       "    .dataframe thead th {\n",
       "        text-align: right;\n",
       "    }\n",
       "</style>\n",
       "<table border=\"1\" class=\"dataframe\">\n",
       "  <thead>\n",
       "    <tr style=\"text-align: right;\">\n",
       "      <th></th>\n",
       "      <th>I_FRET/I_CFP</th>\n",
       "      <th>tag</th>\n",
       "      <th>embryo metadata</th>\n",
       "    </tr>\n",
       "  </thead>\n",
       "  <tbody>\n",
       "    <tr>\n",
       "      <th>0</th>\n",
       "      <td>0.486790</td>\n",
       "      <td>delayed</td>\n",
       "      <td>NaN</td>\n",
       "    </tr>\n",
       "    <tr>\n",
       "      <th>1</th>\n",
       "      <td>0.406643</td>\n",
       "      <td>delayed</td>\n",
       "      <td>NaN</td>\n",
       "    </tr>\n",
       "    <tr>\n",
       "      <th>2</th>\n",
       "      <td>0.474174</td>\n",
       "      <td>delayed</td>\n",
       "      <td>NaN</td>\n",
       "    </tr>\n",
       "    <tr>\n",
       "      <th>3</th>\n",
       "      <td>0.388041</td>\n",
       "      <td>delayed</td>\n",
       "      <td>NaN</td>\n",
       "    </tr>\n",
       "    <tr>\n",
       "      <th>4</th>\n",
       "      <td>0.391729</td>\n",
       "      <td>delayed</td>\n",
       "      <td>NaN</td>\n",
       "    </tr>\n",
       "    <tr>\n",
       "      <th>5</th>\n",
       "      <td>0.489151</td>\n",
       "      <td>delayed</td>\n",
       "      <td>NaN</td>\n",
       "    </tr>\n",
       "    <tr>\n",
       "      <th>6</th>\n",
       "      <td>0.485456</td>\n",
       "      <td>delayed</td>\n",
       "      <td>NaN</td>\n",
       "    </tr>\n",
       "    <tr>\n",
       "      <th>7</th>\n",
       "      <td>0.406506</td>\n",
       "      <td>normal</td>\n",
       "      <td>NaN</td>\n",
       "    </tr>\n",
       "    <tr>\n",
       "      <th>8</th>\n",
       "      <td>0.492913</td>\n",
       "      <td>normal</td>\n",
       "      <td>NaN</td>\n",
       "    </tr>\n",
       "    <tr>\n",
       "      <th>9</th>\n",
       "      <td>0.401854</td>\n",
       "      <td>normal</td>\n",
       "      <td>NaN</td>\n",
       "    </tr>\n",
       "    <tr>\n",
       "      <th>10</th>\n",
       "      <td>0.401854</td>\n",
       "      <td>normal</td>\n",
       "      <td>NaN</td>\n",
       "    </tr>\n",
       "    <tr>\n",
       "      <th>11</th>\n",
       "      <td>0.357052</td>\n",
       "      <td>normal</td>\n",
       "      <td>NaN</td>\n",
       "    </tr>\n",
       "    <tr>\n",
       "      <th>12</th>\n",
       "      <td>0.392641</td>\n",
       "      <td>normal</td>\n",
       "      <td>NaN</td>\n",
       "    </tr>\n",
       "    <tr>\n",
       "      <th>13</th>\n",
       "      <td>0.386546</td>\n",
       "      <td>normal</td>\n",
       "      <td>NaN</td>\n",
       "    </tr>\n",
       "    <tr>\n",
       "      <th>0</th>\n",
       "      <td>0.590486</td>\n",
       "      <td>normal</td>\n",
       "      <td>20220117_series9 auto</td>\n",
       "    </tr>\n",
       "    <tr>\n",
       "      <th>1</th>\n",
       "      <td>0.596543</td>\n",
       "      <td>normal</td>\n",
       "      <td>20220117_series9 auto</td>\n",
       "    </tr>\n",
       "    <tr>\n",
       "      <th>2</th>\n",
       "      <td>0.586162</td>\n",
       "      <td>normal</td>\n",
       "      <td>20220117_series9 auto</td>\n",
       "    </tr>\n",
       "    <tr>\n",
       "      <th>3</th>\n",
       "      <td>0.528142</td>\n",
       "      <td>normal</td>\n",
       "      <td>20220117_series9 auto</td>\n",
       "    </tr>\n",
       "    <tr>\n",
       "      <th>4</th>\n",
       "      <td>0.539337</td>\n",
       "      <td>normal</td>\n",
       "      <td>20220117_series9 auto</td>\n",
       "    </tr>\n",
       "    <tr>\n",
       "      <th>5</th>\n",
       "      <td>0.647866</td>\n",
       "      <td>normal</td>\n",
       "      <td>20220117_series9 auto</td>\n",
       "    </tr>\n",
       "    <tr>\n",
       "      <th>6</th>\n",
       "      <td>0.546655</td>\n",
       "      <td>normal</td>\n",
       "      <td>20220117_series9 auto</td>\n",
       "    </tr>\n",
       "    <tr>\n",
       "      <th>7</th>\n",
       "      <td>0.538179</td>\n",
       "      <td>normal</td>\n",
       "      <td>20220117_series9 auto</td>\n",
       "    </tr>\n",
       "    <tr>\n",
       "      <th>8</th>\n",
       "      <td>0.605090</td>\n",
       "      <td>normal</td>\n",
       "      <td>20220117_series9 auto</td>\n",
       "    </tr>\n",
       "    <tr>\n",
       "      <th>9</th>\n",
       "      <td>1.049852</td>\n",
       "      <td>delayed</td>\n",
       "      <td>20220117_series9 auto</td>\n",
       "    </tr>\n",
       "    <tr>\n",
       "      <th>10</th>\n",
       "      <td>0.650538</td>\n",
       "      <td>delayed</td>\n",
       "      <td>20220117_series9 auto</td>\n",
       "    </tr>\n",
       "    <tr>\n",
       "      <th>11</th>\n",
       "      <td>0.668787</td>\n",
       "      <td>delayed</td>\n",
       "      <td>20220117_series9 auto</td>\n",
       "    </tr>\n",
       "    <tr>\n",
       "      <th>12</th>\n",
       "      <td>0.601712</td>\n",
       "      <td>delayed</td>\n",
       "      <td>20220117_series9 auto</td>\n",
       "    </tr>\n",
       "    <tr>\n",
       "      <th>13</th>\n",
       "      <td>0.705642</td>\n",
       "      <td>delayed</td>\n",
       "      <td>20220117_series9 auto</td>\n",
       "    </tr>\n",
       "    <tr>\n",
       "      <th>14</th>\n",
       "      <td>0.659809</td>\n",
       "      <td>delayed</td>\n",
       "      <td>20220117_series9 auto</td>\n",
       "    </tr>\n",
       "    <tr>\n",
       "      <th>15</th>\n",
       "      <td>0.567230</td>\n",
       "      <td>delayed</td>\n",
       "      <td>20220117_series9 auto</td>\n",
       "    </tr>\n",
       "    <tr>\n",
       "      <th>16</th>\n",
       "      <td>0.633274</td>\n",
       "      <td>delayed</td>\n",
       "      <td>20220117_series9 auto</td>\n",
       "    </tr>\n",
       "    <tr>\n",
       "      <th>17</th>\n",
       "      <td>0.646201</td>\n",
       "      <td>delayed</td>\n",
       "      <td>20220117_series9 auto</td>\n",
       "    </tr>\n",
       "  </tbody>\n",
       "</table>\n",
       "</div>"
      ],
      "text/plain": [
       "    I_FRET/I_CFP      tag        embryo metadata\n",
       "0       0.486790  delayed                    NaN\n",
       "1       0.406643  delayed                    NaN\n",
       "2       0.474174  delayed                    NaN\n",
       "3       0.388041  delayed                    NaN\n",
       "4       0.391729  delayed                    NaN\n",
       "5       0.489151  delayed                    NaN\n",
       "6       0.485456  delayed                    NaN\n",
       "7       0.406506   normal                    NaN\n",
       "8       0.492913   normal                    NaN\n",
       "9       0.401854   normal                    NaN\n",
       "10      0.401854   normal                    NaN\n",
       "11      0.357052   normal                    NaN\n",
       "12      0.392641   normal                    NaN\n",
       "13      0.386546   normal                    NaN\n",
       "0       0.590486   normal  20220117_series9 auto\n",
       "1       0.596543   normal  20220117_series9 auto\n",
       "2       0.586162   normal  20220117_series9 auto\n",
       "3       0.528142   normal  20220117_series9 auto\n",
       "4       0.539337   normal  20220117_series9 auto\n",
       "5       0.647866   normal  20220117_series9 auto\n",
       "6       0.546655   normal  20220117_series9 auto\n",
       "7       0.538179   normal  20220117_series9 auto\n",
       "8       0.605090   normal  20220117_series9 auto\n",
       "9       1.049852  delayed  20220117_series9 auto\n",
       "10      0.650538  delayed  20220117_series9 auto\n",
       "11      0.668787  delayed  20220117_series9 auto\n",
       "12      0.601712  delayed  20220117_series9 auto\n",
       "13      0.705642  delayed  20220117_series9 auto\n",
       "14      0.659809  delayed  20220117_series9 auto\n",
       "15      0.567230  delayed  20220117_series9 auto\n",
       "16      0.633274  delayed  20220117_series9 auto\n",
       "17      0.646201  delayed  20220117_series9 auto"
      ]
     },
     "execution_count": 108,
     "metadata": {},
     "output_type": "execute_result"
    }
   ],
   "source": [
    "pd.concat([df_s8, df_s9])"
   ]
  },
  {
   "cell_type": "markdown",
   "id": "b946db94-4f7f-404d-81c0-cb53156bae54",
   "metadata": {},
   "source": [
    "# 20220117_series5 automated"
   ]
  },
  {
   "cell_type": "code",
   "execution_count": 109,
   "id": "1e226cc4-199b-4f62-80a1-16a5e296e78a",
   "metadata": {},
   "outputs": [],
   "source": [
    "df_s5_z5 = pd.read_csv('../outputs/20220117_series5/t4_z5_fret_measurements.csv').drop(columns=['Unnamed: 0'])"
   ]
  },
  {
   "cell_type": "code",
   "execution_count": 110,
   "id": "e68d9a9f-9832-44ef-bea4-03b8813c9b0a",
   "metadata": {},
   "outputs": [],
   "source": [
    "df_s5_z5 =  df_s5_z5.iloc[0:int(len(df_s5_z5)/2)]"
   ]
  },
  {
   "cell_type": "code",
   "execution_count": 111,
   "id": "2a899d20-020a-40ea-998c-1438f0fae326",
   "metadata": {
    "collapsed": true,
    "jupyter": {
     "outputs_hidden": true
    },
    "tags": []
   },
   "outputs": [
    {
     "data": {
      "text/html": [
       "<div>\n",
       "<style scoped>\n",
       "    .dataframe tbody tr th:only-of-type {\n",
       "        vertical-align: middle;\n",
       "    }\n",
       "\n",
       "    .dataframe tbody tr th {\n",
       "        vertical-align: top;\n",
       "    }\n",
       "\n",
       "    .dataframe thead th {\n",
       "        text-align: right;\n",
       "    }\n",
       "</style>\n",
       "<table border=\"1\" class=\"dataframe\">\n",
       "  <thead>\n",
       "    <tr style=\"text-align: right;\">\n",
       "      <th></th>\n",
       "      <th>I_FRET/I_CFP</th>\n",
       "      <th>tag</th>\n",
       "      <th>embryo metadata</th>\n",
       "    </tr>\n",
       "  </thead>\n",
       "  <tbody>\n",
       "    <tr>\n",
       "      <th>0</th>\n",
       "      <td>0.575295</td>\n",
       "      <td>normal</td>\n",
       "      <td>20220117_series5</td>\n",
       "    </tr>\n",
       "    <tr>\n",
       "      <th>1</th>\n",
       "      <td>0.563133</td>\n",
       "      <td>normal</td>\n",
       "      <td>20220117_series5</td>\n",
       "    </tr>\n",
       "    <tr>\n",
       "      <th>2</th>\n",
       "      <td>0.590239</td>\n",
       "      <td>normal</td>\n",
       "      <td>20220117_series5</td>\n",
       "    </tr>\n",
       "    <tr>\n",
       "      <th>3</th>\n",
       "      <td>0.664542</td>\n",
       "      <td>normal</td>\n",
       "      <td>20220117_series5</td>\n",
       "    </tr>\n",
       "    <tr>\n",
       "      <th>4</th>\n",
       "      <td>0.368479</td>\n",
       "      <td>normal</td>\n",
       "      <td>20220117_series5</td>\n",
       "    </tr>\n",
       "    <tr>\n",
       "      <th>5</th>\n",
       "      <td>0.533998</td>\n",
       "      <td>normal</td>\n",
       "      <td>20220117_series5</td>\n",
       "    </tr>\n",
       "    <tr>\n",
       "      <th>6</th>\n",
       "      <td>0.553964</td>\n",
       "      <td>normal</td>\n",
       "      <td>20220117_series5</td>\n",
       "    </tr>\n",
       "    <tr>\n",
       "      <th>7</th>\n",
       "      <td>0.459056</td>\n",
       "      <td>normal</td>\n",
       "      <td>20220117_series5</td>\n",
       "    </tr>\n",
       "    <tr>\n",
       "      <th>8</th>\n",
       "      <td>0.464420</td>\n",
       "      <td>normal</td>\n",
       "      <td>20220117_series5</td>\n",
       "    </tr>\n",
       "    <tr>\n",
       "      <th>9</th>\n",
       "      <td>0.577095</td>\n",
       "      <td>normal</td>\n",
       "      <td>20220117_series5</td>\n",
       "    </tr>\n",
       "    <tr>\n",
       "      <th>10</th>\n",
       "      <td>0.543075</td>\n",
       "      <td>normal</td>\n",
       "      <td>20220117_series5</td>\n",
       "    </tr>\n",
       "    <tr>\n",
       "      <th>11</th>\n",
       "      <td>0.593293</td>\n",
       "      <td>normal</td>\n",
       "      <td>20220117_series5</td>\n",
       "    </tr>\n",
       "    <tr>\n",
       "      <th>12</th>\n",
       "      <td>0.612823</td>\n",
       "      <td>normal</td>\n",
       "      <td>20220117_series5</td>\n",
       "    </tr>\n",
       "    <tr>\n",
       "      <th>13</th>\n",
       "      <td>0.561339</td>\n",
       "      <td>normal</td>\n",
       "      <td>20220117_series5</td>\n",
       "    </tr>\n",
       "    <tr>\n",
       "      <th>14</th>\n",
       "      <td>0.456480</td>\n",
       "      <td>normal</td>\n",
       "      <td>20220117_series5</td>\n",
       "    </tr>\n",
       "    <tr>\n",
       "      <th>15</th>\n",
       "      <td>0.588565</td>\n",
       "      <td>normal</td>\n",
       "      <td>20220117_series5</td>\n",
       "    </tr>\n",
       "  </tbody>\n",
       "</table>\n",
       "</div>"
      ],
      "text/plain": [
       "    I_FRET/I_CFP     tag   embryo metadata\n",
       "0       0.575295  normal  20220117_series5\n",
       "1       0.563133  normal  20220117_series5\n",
       "2       0.590239  normal  20220117_series5\n",
       "3       0.664542  normal  20220117_series5\n",
       "4       0.368479  normal  20220117_series5\n",
       "5       0.533998  normal  20220117_series5\n",
       "6       0.553964  normal  20220117_series5\n",
       "7       0.459056  normal  20220117_series5\n",
       "8       0.464420  normal  20220117_series5\n",
       "9       0.577095  normal  20220117_series5\n",
       "10      0.543075  normal  20220117_series5\n",
       "11      0.593293  normal  20220117_series5\n",
       "12      0.612823  normal  20220117_series5\n",
       "13      0.561339  normal  20220117_series5\n",
       "14      0.456480  normal  20220117_series5\n",
       "15      0.588565  normal  20220117_series5"
      ]
     },
     "execution_count": 111,
     "metadata": {},
     "output_type": "execute_result"
    }
   ],
   "source": [
    "df_s5_z5"
   ]
  },
  {
   "cell_type": "code",
   "execution_count": 112,
   "id": "348201fb-8056-44dc-8806-b775daffd5e1",
   "metadata": {},
   "outputs": [],
   "source": [
    "df_s5_z14 = pd.read_csv('../outputs/20220117_series5/t4_z14_fret_measurements.csv').drop(columns=['Unnamed: 0'])"
   ]
  },
  {
   "cell_type": "code",
   "execution_count": 113,
   "id": "6c697984-e1b5-4307-8f83-f35c8496d35e",
   "metadata": {},
   "outputs": [],
   "source": [
    "df_s5_z14 =  df_s5_z14.iloc[int(len(df_s5_z14)/2): len(df_s5_z14)]"
   ]
  },
  {
   "cell_type": "code",
   "execution_count": 114,
   "id": "29842963-41a2-4f4e-8bae-e4e54af0f4b0",
   "metadata": {},
   "outputs": [],
   "source": [
    "df_s5 = pd.concat([df_s5_z5, df_s5_z14], ignore_index=True)"
   ]
  },
  {
   "cell_type": "code",
   "execution_count": 115,
   "id": "4e7c89d3-ee49-4c29-a882-73fd27b2e474",
   "metadata": {
    "collapsed": true,
    "jupyter": {
     "outputs_hidden": true
    },
    "tags": []
   },
   "outputs": [
    {
     "data": {
      "text/html": [
       "<div>\n",
       "<style scoped>\n",
       "    .dataframe tbody tr th:only-of-type {\n",
       "        vertical-align: middle;\n",
       "    }\n",
       "\n",
       "    .dataframe tbody tr th {\n",
       "        vertical-align: top;\n",
       "    }\n",
       "\n",
       "    .dataframe thead th {\n",
       "        text-align: right;\n",
       "    }\n",
       "</style>\n",
       "<table border=\"1\" class=\"dataframe\">\n",
       "  <thead>\n",
       "    <tr style=\"text-align: right;\">\n",
       "      <th></th>\n",
       "      <th>I_FRET/I_CFP</th>\n",
       "      <th>tag</th>\n",
       "      <th>embryo metadata</th>\n",
       "    </tr>\n",
       "  </thead>\n",
       "  <tbody>\n",
       "    <tr>\n",
       "      <th>0</th>\n",
       "      <td>0.575295</td>\n",
       "      <td>normal</td>\n",
       "      <td>20220117_series5</td>\n",
       "    </tr>\n",
       "    <tr>\n",
       "      <th>1</th>\n",
       "      <td>0.563133</td>\n",
       "      <td>normal</td>\n",
       "      <td>20220117_series5</td>\n",
       "    </tr>\n",
       "    <tr>\n",
       "      <th>2</th>\n",
       "      <td>0.590239</td>\n",
       "      <td>normal</td>\n",
       "      <td>20220117_series5</td>\n",
       "    </tr>\n",
       "    <tr>\n",
       "      <th>3</th>\n",
       "      <td>0.664542</td>\n",
       "      <td>normal</td>\n",
       "      <td>20220117_series5</td>\n",
       "    </tr>\n",
       "    <tr>\n",
       "      <th>4</th>\n",
       "      <td>0.368479</td>\n",
       "      <td>normal</td>\n",
       "      <td>20220117_series5</td>\n",
       "    </tr>\n",
       "    <tr>\n",
       "      <th>5</th>\n",
       "      <td>0.533998</td>\n",
       "      <td>normal</td>\n",
       "      <td>20220117_series5</td>\n",
       "    </tr>\n",
       "    <tr>\n",
       "      <th>6</th>\n",
       "      <td>0.553964</td>\n",
       "      <td>normal</td>\n",
       "      <td>20220117_series5</td>\n",
       "    </tr>\n",
       "    <tr>\n",
       "      <th>7</th>\n",
       "      <td>0.459056</td>\n",
       "      <td>normal</td>\n",
       "      <td>20220117_series5</td>\n",
       "    </tr>\n",
       "    <tr>\n",
       "      <th>8</th>\n",
       "      <td>0.464420</td>\n",
       "      <td>normal</td>\n",
       "      <td>20220117_series5</td>\n",
       "    </tr>\n",
       "    <tr>\n",
       "      <th>9</th>\n",
       "      <td>0.577095</td>\n",
       "      <td>normal</td>\n",
       "      <td>20220117_series5</td>\n",
       "    </tr>\n",
       "    <tr>\n",
       "      <th>10</th>\n",
       "      <td>0.543075</td>\n",
       "      <td>normal</td>\n",
       "      <td>20220117_series5</td>\n",
       "    </tr>\n",
       "    <tr>\n",
       "      <th>11</th>\n",
       "      <td>0.593293</td>\n",
       "      <td>normal</td>\n",
       "      <td>20220117_series5</td>\n",
       "    </tr>\n",
       "    <tr>\n",
       "      <th>12</th>\n",
       "      <td>0.612823</td>\n",
       "      <td>normal</td>\n",
       "      <td>20220117_series5</td>\n",
       "    </tr>\n",
       "    <tr>\n",
       "      <th>13</th>\n",
       "      <td>0.561339</td>\n",
       "      <td>normal</td>\n",
       "      <td>20220117_series5</td>\n",
       "    </tr>\n",
       "    <tr>\n",
       "      <th>14</th>\n",
       "      <td>0.456480</td>\n",
       "      <td>normal</td>\n",
       "      <td>20220117_series5</td>\n",
       "    </tr>\n",
       "    <tr>\n",
       "      <th>15</th>\n",
       "      <td>0.588565</td>\n",
       "      <td>normal</td>\n",
       "      <td>20220117_series5</td>\n",
       "    </tr>\n",
       "    <tr>\n",
       "      <th>16</th>\n",
       "      <td>0.517977</td>\n",
       "      <td>delayed</td>\n",
       "      <td>20220117_series5</td>\n",
       "    </tr>\n",
       "    <tr>\n",
       "      <th>17</th>\n",
       "      <td>0.618022</td>\n",
       "      <td>delayed</td>\n",
       "      <td>20220117_series5</td>\n",
       "    </tr>\n",
       "    <tr>\n",
       "      <th>18</th>\n",
       "      <td>0.494194</td>\n",
       "      <td>delayed</td>\n",
       "      <td>20220117_series5</td>\n",
       "    </tr>\n",
       "    <tr>\n",
       "      <th>19</th>\n",
       "      <td>0.595753</td>\n",
       "      <td>delayed</td>\n",
       "      <td>20220117_series5</td>\n",
       "    </tr>\n",
       "    <tr>\n",
       "      <th>20</th>\n",
       "      <td>0.540427</td>\n",
       "      <td>delayed</td>\n",
       "      <td>20220117_series5</td>\n",
       "    </tr>\n",
       "    <tr>\n",
       "      <th>21</th>\n",
       "      <td>0.724184</td>\n",
       "      <td>delayed</td>\n",
       "      <td>20220117_series5</td>\n",
       "    </tr>\n",
       "    <tr>\n",
       "      <th>22</th>\n",
       "      <td>0.594206</td>\n",
       "      <td>delayed</td>\n",
       "      <td>20220117_series5</td>\n",
       "    </tr>\n",
       "    <tr>\n",
       "      <th>23</th>\n",
       "      <td>0.634427</td>\n",
       "      <td>delayed</td>\n",
       "      <td>20220117_series5</td>\n",
       "    </tr>\n",
       "    <tr>\n",
       "      <th>24</th>\n",
       "      <td>0.680338</td>\n",
       "      <td>delayed</td>\n",
       "      <td>20220117_series5</td>\n",
       "    </tr>\n",
       "    <tr>\n",
       "      <th>25</th>\n",
       "      <td>0.500307</td>\n",
       "      <td>delayed</td>\n",
       "      <td>20220117_series5</td>\n",
       "    </tr>\n",
       "    <tr>\n",
       "      <th>26</th>\n",
       "      <td>0.589853</td>\n",
       "      <td>delayed</td>\n",
       "      <td>20220117_series5</td>\n",
       "    </tr>\n",
       "    <tr>\n",
       "      <th>27</th>\n",
       "      <td>0.579079</td>\n",
       "      <td>delayed</td>\n",
       "      <td>20220117_series5</td>\n",
       "    </tr>\n",
       "    <tr>\n",
       "      <th>28</th>\n",
       "      <td>0.536121</td>\n",
       "      <td>delayed</td>\n",
       "      <td>20220117_series5</td>\n",
       "    </tr>\n",
       "    <tr>\n",
       "      <th>29</th>\n",
       "      <td>0.542807</td>\n",
       "      <td>delayed</td>\n",
       "      <td>20220117_series5</td>\n",
       "    </tr>\n",
       "    <tr>\n",
       "      <th>30</th>\n",
       "      <td>0.631416</td>\n",
       "      <td>delayed</td>\n",
       "      <td>20220117_series5</td>\n",
       "    </tr>\n",
       "    <tr>\n",
       "      <th>31</th>\n",
       "      <td>0.566643</td>\n",
       "      <td>delayed</td>\n",
       "      <td>20220117_series5</td>\n",
       "    </tr>\n",
       "  </tbody>\n",
       "</table>\n",
       "</div>"
      ],
      "text/plain": [
       "    I_FRET/I_CFP      tag   embryo metadata\n",
       "0       0.575295   normal  20220117_series5\n",
       "1       0.563133   normal  20220117_series5\n",
       "2       0.590239   normal  20220117_series5\n",
       "3       0.664542   normal  20220117_series5\n",
       "4       0.368479   normal  20220117_series5\n",
       "5       0.533998   normal  20220117_series5\n",
       "6       0.553964   normal  20220117_series5\n",
       "7       0.459056   normal  20220117_series5\n",
       "8       0.464420   normal  20220117_series5\n",
       "9       0.577095   normal  20220117_series5\n",
       "10      0.543075   normal  20220117_series5\n",
       "11      0.593293   normal  20220117_series5\n",
       "12      0.612823   normal  20220117_series5\n",
       "13      0.561339   normal  20220117_series5\n",
       "14      0.456480   normal  20220117_series5\n",
       "15      0.588565   normal  20220117_series5\n",
       "16      0.517977  delayed  20220117_series5\n",
       "17      0.618022  delayed  20220117_series5\n",
       "18      0.494194  delayed  20220117_series5\n",
       "19      0.595753  delayed  20220117_series5\n",
       "20      0.540427  delayed  20220117_series5\n",
       "21      0.724184  delayed  20220117_series5\n",
       "22      0.594206  delayed  20220117_series5\n",
       "23      0.634427  delayed  20220117_series5\n",
       "24      0.680338  delayed  20220117_series5\n",
       "25      0.500307  delayed  20220117_series5\n",
       "26      0.589853  delayed  20220117_series5\n",
       "27      0.579079  delayed  20220117_series5\n",
       "28      0.536121  delayed  20220117_series5\n",
       "29      0.542807  delayed  20220117_series5\n",
       "30      0.631416  delayed  20220117_series5\n",
       "31      0.566643  delayed  20220117_series5"
      ]
     },
     "execution_count": 115,
     "metadata": {},
     "output_type": "execute_result"
    }
   ],
   "source": [
    "df_s5"
   ]
  },
  {
   "cell_type": "markdown",
   "id": "a5b983cd-90e0-4986-bc93-5d74c8bbb30c",
   "metadata": {
    "tags": []
   },
   "source": [
    "# Merge of series 8 and series 9 at NEB"
   ]
  },
  {
   "cell_type": "code",
   "execution_count": 116,
   "id": "0687238b-1c24-4230-adcf-a1d9ced5c82e",
   "metadata": {},
   "outputs": [],
   "source": [
    "df2 = df2.rename(columns={'fret/cfp corr':'I_FRET/I_CFP'})"
   ]
  },
  {
   "cell_type": "code",
   "execution_count": 117,
   "id": "da05dd28-6789-45d4-9c6d-bc152ffe735f",
   "metadata": {},
   "outputs": [
    {
     "name": "stderr",
     "output_type": "stream",
     "text": [
      "/tmp/ipykernel_249744/2877077560.py:1: FutureWarning: The frame.append method is deprecated and will be removed from pandas in a future version. Use pandas.concat instead.\n",
      "  df_s8 = df_s8.append(df2, ignore_index=True)\n"
     ]
    }
   ],
   "source": [
    "df_s8 = df_s8.append(df2, ignore_index=True)"
   ]
  },
  {
   "cell_type": "code",
   "execution_count": 118,
   "id": "c0d37cad-1e79-4de5-8f89-e2db6d2d78ce",
   "metadata": {},
   "outputs": [],
   "source": [
    "embryo_source = ['20220117_series8' for i in range(14)]\n",
    "em_source2 = ['20220117_series9' for i in range(18)]\n",
    "sources = embryo_source + em_source2"
   ]
  },
  {
   "cell_type": "code",
   "execution_count": 119,
   "id": "d3da1275-69e8-456a-8714-468e925d0163",
   "metadata": {},
   "outputs": [],
   "source": [
    "df_s8['embryo metadata'] = sources"
   ]
  },
  {
   "cell_type": "code",
   "execution_count": 125,
   "id": "2279b4d1-6665-468a-a987-f16fd31bd1ec",
   "metadata": {},
   "outputs": [],
   "source": [
    "df_master = pd.concat([df_s8, df_s5, df2])"
   ]
  },
  {
   "cell_type": "code",
   "execution_count": 177,
   "id": "0a89e20c-8f37-4c98-bf59-dfb1ed7c3c12",
   "metadata": {},
   "outputs": [
    {
     "data": {
      "image/png": "[encoded data removed]",
      "text/plain": [
       "<Figure size 432x288 with 1 Axes>"
      ]
     },
     "metadata": {
      "needs_background": "light"
     },
     "output_type": "display_data"
    }
   ],
   "source": [
    "ax = ax = sns.barplot(x='tag', y='I_FRET/I_CFP', ci='sd', capsize=0.2, data=df_master,\n",
    "                     linewidth=1.5, edgecolor='black', errcolor='black')\n",
    "ax = sns.swarmplot(x='tag', y='I_FRET/I_CFP', data=df_master, hue='embryo metadata', palette='hls')\n",
    "plt.legend(bbox_to_anchor=(1.02, 0.55), loc='upper left', borderaxespad=0)\n",
    "plt.ylabel('$I_{FRET}/I_{CFP}$', fontsize=15)\n",
    "plt.xlabel('')\n",
    "plt.savefig('../figures/fret_bg_corr_summary.png')"
   ]
  },
  {
   "cell_type": "code",
   "execution_count": 194,
   "id": "c7dc6bfa-87fc-4d4a-85c7-88555753cc8a",
   "metadata": {},
   "outputs": [
    {
     "data": {
      "image/png": "[encoded data removed]",
      "text/plain": [
       "<Figure size 432x288 with 1 Axes>"
      ]
     },
     "metadata": {
      "needs_background": "light"
     },
     "output_type": "display_data"
    }
   ],
   "source": [
    "ax = sns.boxplot(x='tag', y='I_FRET/I_CFP', data=df_master)"
   ]
  },
  {
   "cell_type": "code",
   "execution_count": 167,
   "id": "044d740c-8a6d-4fee-9bf4-4fe9ea46da8c",
   "metadata": {},
   "outputs": [
    {
     "data": {
      "text/plain": [
       "<matplotlib.legend.Legend at 0x7fa65c1b55b0>"
      ]
     },
     "execution_count": 167,
     "metadata": {},
     "output_type": "execute_result"
    },
    {
     "data": {
      "image/png": "[encoded data removed]",
      "text/plain": [
       "<Figure size 432x288 with 1 Axes>"
      ]
     },
     "metadata": {
      "needs_background": "light"
     },
     "output_type": "display_data"
    }
   ],
   "source": [
    "ax = sns.boxplot(x='embryo metadata', y='I_FRET/I_CFP', data=df_master, hue='tag')\n",
    "ax = sns.stripplot(x='embryo metadata', y='I_FRET/I_CFP', data=df_master, hue='tag')\n",
    "plt.xticks([])\n",
    "plt.xlabel('Embryo')\n",
    "plt.ylabel('$I_{FRET}/I_{CFP}$', fontsize=15)\n",
    "plt.legend(bbox_to_anchor=(1.02, 0.55), loc='upper left', borderaxespad=0)"
   ]
  },
  {
   "cell_type": "code",
   "execution_count": 193,
   "id": "eaa6153a-a26d-4898-8b31-dc429c9d48ba",
   "metadata": {},
   "outputs": [
    {
     "data": {
      "image/png": "[encoded data removed]",
      "text/plain": [
       "<Figure size 432x288 with 1 Axes>"
      ]
     },
     "metadata": {
      "needs_background": "light"
     },
     "output_type": "display_data"
    }
   ],
   "source": [
    "ax = sns.barplot(x='embryo metadata', y='I_FRET/I_CFP', data=df_master, ci='sd', capsize=0.2, hue='tag',\n",
    "                linewidth=1.5, edgecolor='black', errcolor='black')\n",
    "ax = sns.stripplot(x='embryo metadata', y='I_FRET/I_CFP', data=df_master, hue='tag')\n",
    "plt.xticks([0, 1, 2, 3])\n",
    "ax.set_xticklabels(['S8', 'S9', 'S5', 'S9 Man.'])\n",
    "plt.xlabel('Embryo')\n",
    "plt.title('Background Corrected')\n",
    "plt.ylabel('$I_{FRET}/I_{CFP}$', fontsize=15)\n",
    "plt.legend(bbox_to_anchor=(1.02, 0.55), loc='upper left', borderaxespad=0)\n",
    "plt.savefig('../figures/fret_bg_corr_embryos.png')"
   ]
  },
  {
   "cell_type": "code",
   "execution_count": 187,
   "id": "45c3dcc0-8785-4334-a040-29773ed167b9",
   "metadata": {},
   "outputs": [
    {
     "data": {
      "text/plain": [
       "array(['20220117_series8', '20220117_series9', '20220117_series5',\n",
       "       '20220117_series9 manual'], dtype=object)"
      ]
     },
     "execution_count": 187,
     "metadata": {},
     "output_type": "execute_result"
    }
   ],
   "source": [
    "df_master['embryo metadata'].unique()"
   ]
  },
  {
   "cell_type": "code",
   "execution_count": null,
   "id": "fb5d1b10-352e-4c4f-9c57-6f16ceaa4722",
   "metadata": {},
   "outputs": [],
   "source": []
  }
 ],
 "metadata": {
  "kernelspec": {
   "display_name": "Python 3 (ipykernel)",
   "language": "python",
   "name": "python3"
  },
  "language_info": {
   "codemirror_mode": {
    "name": "ipython",
    "version": 3
   },
   "file_extension": ".py",
   "mimetype": "text/x-python",
   "name": "python",
   "nbconvert_exporter": "python",
   "pygments_lexer": "ipython3",
   "version": "3.8.12"
  }
 },
 "nbformat": 4,
 "nbformat_minor": 5
}
